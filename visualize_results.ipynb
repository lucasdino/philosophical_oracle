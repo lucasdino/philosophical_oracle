{
 "cells": [
  {
   "cell_type": "code",
   "execution_count": 1,
   "metadata": {},
   "outputs": [
    {
     "ename": "ModuleNotFoundError",
     "evalue": "No module named 'matplotlib'",
     "output_type": "error",
     "traceback": [
      "\u001b[1;31m---------------------------------------------------------------------------\u001b[0m",
      "\u001b[1;31mModuleNotFoundError\u001b[0m                       Traceback (most recent call last)",
      "Cell \u001b[1;32mIn[1], line 5\u001b[0m\n\u001b[0;32m      2\u001b[0m \u001b[38;5;28;01mimport\u001b[39;00m \u001b[38;5;21;01mpickle\u001b[39;00m\n\u001b[0;32m      4\u001b[0m \u001b[38;5;28;01mimport\u001b[39;00m \u001b[38;5;21;01mnumpy\u001b[39;00m \u001b[38;5;28;01mas\u001b[39;00m \u001b[38;5;21;01mnp\u001b[39;00m\n\u001b[1;32m----> 5\u001b[0m \u001b[38;5;28;01mimport\u001b[39;00m \u001b[38;5;21;01mmatplotlib\u001b[39;00m\u001b[38;5;21;01m.\u001b[39;00m\u001b[38;5;21;01mpyplot\u001b[39;00m \u001b[38;5;28;01mas\u001b[39;00m \u001b[38;5;21;01mplt\u001b[39;00m\n",
      "\u001b[1;31mModuleNotFoundError\u001b[0m: No module named 'matplotlib'"
     ]
    }
   ],
   "source": [
    "import os\n",
    "import pickle\n",
    "\n",
    "import numpy as np\n",
    "import matplotlib.pyplot as plt"
   ]
  },
  {
   "cell_type": "code",
   "execution_count": null,
   "metadata": {},
   "outputs": [],
   "source": [
    "def plot_error_bars(labels, avg, sd, title=\"Error Bar Chart\", xlabel=\"Labels\", ylabel=\"Values\"):\n",
    "    \"\"\"\n",
    "    Generates a chart with error bars representing 1 standard deviation.\n",
    "\n",
    "    Args:\n",
    "        labels (list of str): The labels for each slot in the chart.\n",
    "        avg (list of float): The average values for each label.\n",
    "        sd (list of float): The standard deviation values for each label.\n",
    "        title (str): Title of the chart. Default is \"Error Bar Chart\".\n",
    "        xlabel (str): Label for the x-axis. Default is \"Labels\".\n",
    "        ylabel (str): Label for the y-axis. Default is \"Values\".\n",
    "    \"\"\"\n",
    "    # Convert data to NumPy arrays for flexibility\n",
    "    x = np.arange(len(labels))  # Positions for labels\n",
    "    avg = np.array(avg)\n",
    "    sd = np.array(sd)\n",
    "\n",
    "    # Plot the error bars\n",
    "    plt.figure(figsize=(10, 6))\n",
    "    plt.errorbar(x, avg, yerr=sd, fmt='o', capsize=5, label='Mean ± 1 SD', color='blue')\n",
    "    \n",
    "    # Add labels and formatting\n",
    "    plt.xticks(ticks=x, labels=labels, rotation=45, ha='right')\n",
    "    plt.title(title)\n",
    "    plt.xlabel(xlabel)\n",
    "    plt.ylabel(ylabel)\n",
    "    plt.grid(axis='y', linestyle='--', alpha=0.7)\n",
    "    plt.legend()\n",
    "    plt.tight_layout()\n",
    "    plt.show()"
   ]
  },
  {
   "cell_type": "code",
   "execution_count": 3,
   "metadata": {},
   "outputs": [],
   "source": [
    "input_file = os.path.join(\"results\", \"eval_losses.pkl\")\n",
    "with open(input_file, 'rb') as file:\n",
    "    eval_losses = pickle.load(file)"
   ]
  },
  {
   "cell_type": "code",
   "execution_count": 4,
   "metadata": {},
   "outputs": [
    {
     "name": "stdout",
     "output_type": "stream",
     "text": [
      "Data split: source_texts\n",
      "Average loss: 2.053 ± 0.105\n",
      "Average acc:  0.279 ± 0.032\n",
      "\n",
      "Data split: human_summaries\n",
      "Average loss: 1.754 ± 0.157\n",
      "Average acc:  0.366 ± 0.049\n",
      "\n",
      "Data split: gpt_data\n",
      "Average loss: 1.516 ± 0.054\n",
      "Average acc:  0.391 ± 0.042\n",
      "\n",
      "Data split: all_human_texts\n",
      "Average loss: 2.288 ± 0.176\n",
      "Average acc:  0.313 ± 0.029\n",
      "\n",
      "Data split: all_summaries\n",
      "Average loss: 1.727 ± 0.130\n",
      "Average acc:  0.447 ± 0.022\n",
      "\n",
      "Data split: all_sources\n",
      "Average loss: 2.247 ± 0.102\n",
      "Average acc:  0.353 ± 0.015\n",
      "\n"
     ]
    }
   ],
   "source": [
    "final_labels   = []\n",
    "final_loss_avg = []\n",
    "final_loss_sd  = []\n",
    "final_acc_avg  = []\n",
    "final_acc_sd   = []\n",
    "\n",
    "for data_split, losses in eval_losses.items():\n",
    "    print(f\"Data split: {data_split}\")\n",
    "    ls = np.zeros(10)\n",
    "    ac = np.zeros(10)\n",
    "    for i, (loss, acc) in enumerate(losses):\n",
    "        ls[i] = loss\n",
    "        ac[i] = acc\n",
    "    \n",
    "    avg_loss = ls.mean()\n",
    "    sd_loss = ls.std()\n",
    "    avg_acc = ac.mean()\n",
    "    sd_acc = ac.std()\n",
    "\n",
    "    print(f\"Average loss: {avg_loss:.3f} ± {sd_loss:.3f}\")\n",
    "    print(f\"Average acc:  {avg_acc:.3f} ± {sd_acc:.3f}\\n\")\n",
    "\n",
    "    final_labels.append(data_split)\n",
    "    final_loss_avg.append(avg_loss)\n",
    "    final_loss_sd.append(sd_loss)\n",
    "    final_acc_avg.append(avg_acc)\n",
    "    final_acc_sd.append(sd_acc)"
   ]
  }
 ],
 "metadata": {
  "kernelspec": {
   "display_name": "philosophy_oracle",
   "language": "python",
   "name": "python3"
  },
  "language_info": {
   "codemirror_mode": {
    "name": "ipython",
    "version": 3
   },
   "file_extension": ".py",
   "mimetype": "text/x-python",
   "name": "python",
   "nbconvert_exporter": "python",
   "pygments_lexer": "ipython3",
   "version": "3.11.7"
  }
 },
 "nbformat": 4,
 "nbformat_minor": 2
}
