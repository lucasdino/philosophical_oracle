{
 "cells": [
  {
   "cell_type": "markdown",
   "metadata": {},
   "source": [
    "# Use Our Classifier for Inference"
   ]
  },
  {
   "cell_type": "code",
   "execution_count": 1,
   "metadata": {},
   "outputs": [
    {
     "name": "stderr",
     "output_type": "stream",
     "text": [
      "c:\\Users\\lucas\\Desktop\\UCSD\\256\\philosophical_oracle\\philosophy_oracle\\Lib\\site-packages\\tqdm\\auto.py:21: TqdmWarning: IProgress not found. Please update jupyter and ipywidgets. See https://ipywidgets.readthedocs.io/en/stable/user_install.html\n",
      "  from .autonotebook import tqdm as notebook_tqdm\n"
     ]
    },
    {
     "name": "stdout",
     "output_type": "stream",
     "text": [
      "Using device: cuda\n"
     ]
    }
   ],
   "source": [
    "import torch\n",
    "\n",
    "import loader\n",
    "import models\n",
    "import utility\n",
    "\n",
    "device = torch.device(\"cuda\" if torch.cuda.is_available() else \"cpu\")\n",
    "print(f\"Using device: {device}\")"
   ]
  },
  {
   "cell_type": "code",
   "execution_count": 2,
   "metadata": {},
   "outputs": [],
   "source": [
    "filename_category_mapping, category_label_mapping = loader.load_labeling_mappings()\n",
    "filename_label_mapping = filename_category_mapping\n",
    "for key, value in filename_label_mapping.items():\n",
    "    filename_label_mapping[key] = int(category_label_mapping[value])\n",
    "\n",
    "label_to_category_mapping = {v: k for k, v in category_label_mapping.items()}"
   ]
  },
  {
   "cell_type": "code",
   "execution_count": 3,
   "metadata": {},
   "outputs": [
    {
     "name": "stdout",
     "output_type": "stream",
     "text": [
      "Model loaded from model_weights\\classifier_47k_11232024_211122.pth\n"
     ]
    },
    {
     "name": "stderr",
     "output_type": "stream",
     "text": [
      "c:\\Users\\lucas\\Desktop\\UCSD\\256\\philosophical_oracle\\models\\classifier.py:50: FutureWarning: You are using `torch.load` with `weights_only=False` (the current default value), which uses the default pickle module implicitly. It is possible to construct malicious pickle data which will execute arbitrary code during unpickling (See https://github.com/pytorch/pytorch/blob/main/SECURITY.md#untrusted-models for more details). In a future release, the default value for `weights_only` will be flipped to `True`. This limits the functions that could be executed during unpickling. Arbitrary objects will no longer be allowed to be loaded via this mode unless they are explicitly allowlisted by the user via `torch.serialization.add_safe_globals`. We recommend you start setting `weights_only=True` for any use case where you don't have full control of the loaded file. Please open an issue on GitHub for any issues related to this experimental feature.\n",
      "  model_info = torch.load(filepath)\n"
     ]
    }
   ],
   "source": [
    "filename = 'classifier_47k_11232024_211122.pth'\n",
    "model = models.Classifier.load_model(filename).to(device)"
   ]
  },
  {
   "cell_type": "code",
   "execution_count": 4,
   "metadata": {},
   "outputs": [],
   "source": [
    "def philosophize_this(inference_df, model, device, label_to_category_mapping, print_info=False):\n",
    "\n",
    "    def logits_to_prediction(logits, label_to_category_mapping):\n",
    "        sorted_indices = torch.argsort(logits, descending=True)    \n",
    "        predictions = [(label_to_category_mapping[str(idx.item())], logits[idx].item()) for idx in sorted_indices]\n",
    "        return predictions\n",
    "\n",
    "    full_logits = torch.zeros((len(inference_df), len(label_to_category_mapping)))\n",
    "    for i, row in inference_df.iterrows():\n",
    "        model.eval()\n",
    "        with torch.no_grad():\n",
    "            logits = model(row['embedding'].to(device)).cpu()\n",
    "            logits = torch.nn.functional.softmax(logits, dim=-1)\n",
    "        full_logits[i] = logits\n",
    "        predictions = logits_to_prediction(logits, label_to_category_mapping)\n",
    "        \n",
    "        if print_info:\n",
    "            print(f\"{[f'{c}, {v:.2f}' for c, v in predictions]}\")\n",
    "            print(row['chunk_text'])\n",
    "            print(f\"{'='*100}\\n\")\n",
    "\n",
    "    final_prediction = logits_to_prediction(full_logits.mean(dim=0), label_to_category_mapping)\n",
    "    print(f\"Final philosophical prediction of your input text:\\n{[f'{c}, {v:.2f}' for c, v in final_prediction]}\")"
   ]
  },
  {
   "cell_type": "code",
   "execution_count": 10,
   "metadata": {},
   "outputs": [
    {
     "name": "stdout",
     "output_type": "stream",
     "text": [
      "Chunk size: 100\n",
      "Final philosophical prediction of your input text:\n",
      "['transcendentalism, 0.37', 'epicureanism, 0.17', 'absurdism, 0.16', 'stoicism, 0.12', 'buddhism, 0.06', 'existentialism, 0.06', 'rationalism, 0.03', 'confucianism, 0.02', 'taoism, 0.01']\n",
      "====================================================================================================\n",
      "\n",
      "Chunk size: 200\n",
      "Final philosophical prediction of your input text:\n",
      "['transcendentalism, 0.39', 'epicureanism, 0.19', 'buddhism, 0.14', 'absurdism, 0.12', 'stoicism, 0.08', 'rationalism, 0.06', 'taoism, 0.01', 'existentialism, 0.01', 'confucianism, 0.01']\n",
      "====================================================================================================\n",
      "\n",
      "Chunk size: 500\n",
      "Final philosophical prediction of your input text:\n",
      "['transcendentalism, 0.59', 'stoicism, 0.18', 'epicureanism, 0.15', 'confucianism, 0.02', 'absurdism, 0.02', 'rationalism, 0.01', 'taoism, 0.01', 'buddhism, 0.01', 'existentialism, 0.00']\n",
      "====================================================================================================\n",
      "\n",
      "Chunk size: 1000\n",
      "Final philosophical prediction of your input text:\n",
      "['transcendentalism, 0.45', 'absurdism, 0.18', 'taoism, 0.17', 'epicureanism, 0.07', 'stoicism, 0.07', 'buddhism, 0.02', 'confucianism, 0.02', 'rationalism, 0.01', 'existentialism, 0.01']\n",
      "====================================================================================================\n",
      "\n"
     ]
    }
   ],
   "source": [
    "text_file = 'data/inference/rtwbackpack.txt'\n",
    "with open(text_file, 'r', encoding='utf-8') as file:\n",
    "    inference_text = file.read()\n",
    "\n",
    "# inference_df = loader.embed_texts(inference_text, chunk_size=2000, chunk_overlap=50, print_info=False)\n",
    "# philosophize_this(inference_df, model, device, label_to_category_mapping, print_info=True)\n",
    "\n",
    "# chunking_sizes = [2000]\n",
    "chunking_sizes = [100, 200, 500, 1000]\n",
    "\n",
    "for chunk_size in chunking_sizes:\n",
    "    inference_df = loader.embed_texts(inference_text, chunk_size=chunk_size, chunk_overlap=50, print_info=False)\n",
    "    print(f\"Chunk size: {chunk_size}\")\n",
    "    philosophize_this(inference_df, model, device, label_to_category_mapping, print_info=False)\n",
    "    print(f\"{'='*100}\\n\")"
   ]
  }
 ],
 "metadata": {
  "kernelspec": {
   "display_name": "philosophy_oracle",
   "language": "python",
   "name": "python3"
  },
  "language_info": {
   "codemirror_mode": {
    "name": "ipython",
    "version": 3
   },
   "file_extension": ".py",
   "mimetype": "text/x-python",
   "name": "python",
   "nbconvert_exporter": "python",
   "pygments_lexer": "ipython3",
   "version": "3.11.7"
  }
 },
 "nbformat": 4,
 "nbformat_minor": 2
}
