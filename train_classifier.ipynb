{
 "cells": [
  {
   "cell_type": "markdown",
   "metadata": {},
   "source": [
    "# Train our Philosophical Document Embedding Model"
   ]
  },
  {
   "cell_type": "code",
   "execution_count": 4,
   "metadata": {},
   "outputs": [
    {
     "name": "stdout",
     "output_type": "stream",
     "text": [
      "Using device: cuda\n"
     ]
    }
   ],
   "source": [
    "import torch\n",
    "\n",
    "import loader\n",
    "import models\n",
    "import utility\n",
    "\n",
    "\n",
    "device = torch.device(\"cuda\" if torch.cuda.is_available() else \"cpu\")\n",
    "print(f\"Using device: {device}\")"
   ]
  },
  {
   "cell_type": "code",
   "execution_count": 5,
   "metadata": {},
   "outputs": [],
   "source": [
    "filename_category_mapping, category_label_mapping = loader.load_labeling_mappings()\n",
    "filename_label_mapping = filename_category_mapping\n",
    "for key, value in filename_label_mapping.items():\n",
    "    filename_label_mapping[key] = int(category_label_mapping[value])"
   ]
  },
  {
   "cell_type": "code",
   "execution_count": null,
   "metadata": {},
   "outputs": [
    {
     "name": "stdout",
     "output_type": "stream",
     "text": [
      "Dataloader from ('['data\\\\wikipedia', 'data\\\\philosophize_this_transcripts', 'data\\\\gpt_summaries', 'data\\\\gpt_philosophy_game']') created with 95 batches in 3.6 seconds.\n",
      "Dataloader from ('['data\\\\eval_data']') created with 7 batches in 1.3 seconds.\n",
      "Epochs  || Train Loss | Train Acc || Test Loss | Test Acc\n",
      " 1 / 15 ||    1.942   |   0.175   ||   1.931   |  0.143  \n",
      " 2 / 15 ||    1.861   |   0.349   ||   1.818   |  0.500  \n",
      " 3 / 15 ||    1.588   |   0.537   ||   1.621   |  0.357  \n",
      " 4 / 15 ||    1.263   |   0.632   ||   1.521   |  0.429  \n",
      " 5 / 15 ||    1.032   |   0.698   ||   1.305   |  0.643  \n",
      " 6 / 15 ||    0.892   |   0.728   ||   1.305   |  0.536  \n",
      " 7 / 15 ||    0.775   |   0.757   ||   1.382   |  0.429  \n",
      " 8 / 15 ||    0.684   |   0.775   ||   1.301   |  0.536  \n",
      " 9 / 15 ||    0.611   |   0.815   ||   1.393   |  0.464  \n",
      " 10/ 15 ||    0.570   |   0.820   ||   1.406   |  0.429  \n",
      " 11/ 15 ||    0.509   |   0.849   ||   1.513   |  0.464  \n",
      " 12/ 15 ||    0.470   |   0.849   ||   1.578   |  0.536  \n",
      " 13/ 15 ||    0.435   |   0.873   ||   1.561   |  0.464  \n",
      " 14/ 15 ||    0.380   |   0.894   ||   1.555   |  0.500  \n",
      " 15/ 15 ||    0.333   |   0.913   ||   1.666   |  0.429  \n",
      "Model saved to model_weights\\classifier_29k_11242024_191836.pth\n"
     ]
    }
   ],
   "source": [
    "loader_params = {\n",
    "    \"num_labels\": len(category_label_mapping),\n",
    "    \"batch_size\": 4,\n",
    "    \"chunk_size\": 2500,\n",
    "    \"chunk_overlap\": 100,\n",
    "    \"balance_multiplier\": 1,\n",
    "}\n",
    "\n",
    "model_params = {\n",
    "    \"input_dim\": 384,\n",
    "    \"hidden_dim\": 64,\n",
    "    \"output_dim\": loader_params['num_labels'],\n",
    "    \"dropout\": 0.35\n",
    "}\n",
    "train_params = {\n",
    "    \"epochs\": 10,\n",
    "    \"learning_rate\": 1e-3\n",
    "}\n",
    "\n",
    "train_folders = [\"wikipedia\", \"philosophize_this_transcripts\", \"gpt_summaries\", \"gpt_philosophy_game\"]\n",
    "# train_folders = [\"base_texts\", \"wikipedia\", \"philosophize_this_transcripts\", \"gpt_summaries\", \"gpt_philosophy_game\"]\n",
    "test_folders = [\"eval_data\"]\n",
    "filename_category_mapping, category_label_mapping = loader.load_labeling_mappings()\n",
    "\n",
    "\n",
    "train_dataloader = loader.get_dataloader(train_folders, loader_params, filename_label_mapping, balance_data=True, print_info=False)\n",
    "test_dataloader = loader.get_dataloader(test_folders, loader_params, filename_label_mapping, balance_data=True, print_info=False)\n",
    "\n",
    "model = models.Classifier(**model_params)\n",
    "optim = torch.optim.Adam(model.parameters(), lr=train_params['learning_rate'])\n",
    "model.to(device)\n",
    "\n",
    "print(f\"Epochs  || Train Loss | Train Acc || Test Loss | Test Acc\")\n",
    "for epoch in range(train_params['epochs']):\n",
    "    train_loss = []\n",
    "    num_correct, num_total = 0, 0\n",
    "    for iter, (embeddings, labels) in enumerate(train_dataloader):\n",
    "        embeddings, labels = embeddings.to(device), labels.to(device)        \n",
    "        optim.zero_grad()\n",
    "        logits = model(embeddings)\n",
    "        \n",
    "        loss, correct_preds = utility.compute_loss_preds(logits, labels)\n",
    "        loss.backward()\n",
    "        optim.step()\n",
    "\n",
    "        num_correct += correct_preds\n",
    "        num_total += labels.shape[0]\n",
    "        train_loss.append(loss.cpu().item())\n",
    "\n",
    "    eval_loss, eval_acc = utility.evaluate_model(model, test_dataloader, device)\n",
    "    train_loss = torch.tensor(train_loss)\n",
    "    print(f\" {epoch+1:<2}/{train_params['epochs']:>3} ||    {train_loss.mean():.3f}   |   {num_correct/num_total:.3f}   ||   {eval_loss:.3f}   |  {eval_acc:.3f}  \")\n",
    "        \n",
    "model.to(\"cpu\")\n",
    "model.save_model()"
   ]
  }
 ],
 "metadata": {
  "kernelspec": {
   "display_name": "philosophy_oracle",
   "language": "python",
   "name": "python3"
  },
  "language_info": {
   "codemirror_mode": {
    "name": "ipython",
    "version": 3
   },
   "file_extension": ".py",
   "mimetype": "text/x-python",
   "name": "python",
   "nbconvert_exporter": "python",
   "pygments_lexer": "ipython3",
   "version": "3.11.7"
  }
 },
 "nbformat": 4,
 "nbformat_minor": 2
}
