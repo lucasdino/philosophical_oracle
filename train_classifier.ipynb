{
 "cells": [
  {
   "cell_type": "markdown",
   "metadata": {},
   "source": [
    "# Train our Philosophical Document Embedding Model"
   ]
  },
  {
   "cell_type": "code",
   "execution_count": 1,
   "metadata": {},
   "outputs": [
    {
     "name": "stderr",
     "output_type": "stream",
     "text": [
      "c:\\Users\\lucas\\Desktop\\UCSD\\256\\philosophical_oracle\\philosophy_oracle\\Lib\\site-packages\\tqdm\\auto.py:21: TqdmWarning: IProgress not found. Please update jupyter and ipywidgets. See https://ipywidgets.readthedocs.io/en/stable/user_install.html\n",
      "  from .autonotebook import tqdm as notebook_tqdm\n"
     ]
    },
    {
     "name": "stdout",
     "output_type": "stream",
     "text": [
      "Using device: cuda\n"
     ]
    }
   ],
   "source": [
    "import torch\n",
    "\n",
    "import loader\n",
    "import models\n",
    "import utility\n",
    "\n",
    "\n",
    "device = torch.device(\"cuda\" if torch.cuda.is_available() else \"cpu\")\n",
    "print(f\"Using device: {device}\")"
   ]
  },
  {
   "cell_type": "code",
   "execution_count": 2,
   "metadata": {},
   "outputs": [],
   "source": [
    "train_label_mapping = {\n",
    "    \"aurelius_meditations.txt\": 0,\n",
    "    \"beauvoir_ethicsambiguity.txt\": 1,\n",
    "    \"effectivealtruism.txt\": 2,\n",
    "    \"effectivealtruism_copy.txt\": 2,\n",
    "    \"emerson_selfreliance.txt\": 3,\n",
    "    \"kierkegaard_presentage.txt\": 4,\n",
    "    \"thoreau_walden.txt\": 5,\n",
    "    \"epicurus_lettermenoeceus.txt\": 6,\n",
    "    \"epicurus_lettermenoeceus_copy.txt\": 6\n",
    "}\n",
    "test_label_pt_mapping = {\n",
    "    \"philthis_beauvoir.txt\": 1,\n",
    "    \"philthis_effectivealtruism.txt\": 2,\n",
    "    \"philthis_emerson.txt\": 3,\n",
    "    \"philthis_epicurus.txt\": 6,\n",
    "    \"philthis_kierkegaard.txt\": 4,\n",
    "    \"philthis_stoicism.txt\": 0,\n",
    "    \"philthis_thoreau.txt\": 5,\n",
    "}\n",
    "test_label_mapping = {\n",
    "    \"gpt_beauvoir.txt\": 1,\n",
    "    \"gpt_effectivealtruism.txt\": 2,\n",
    "    \"gpt_emerson.txt\": 3,\n",
    "    \"gpt_epicureanism.txt\": 6,\n",
    "    \"gpt_kierkegaard.txt\": 4,\n",
    "    \"gpt_stoicism.txt\": 0,\n",
    "    \"gpt_thoreau.txt\": 5,\n",
    "}"
   ]
  },
  {
   "cell_type": "code",
   "execution_count": 3,
   "metadata": {},
   "outputs": [
    {
     "name": "stdout",
     "output_type": "stream",
     "text": [
      "Dataloader from ('data/train_data') created with 110 embeddings in 6.9 seconds.\n",
      "Dataloader from ('data/test_data') created with 42 embeddings in 1.3 seconds.\n"
     ]
    }
   ],
   "source": [
    "loader_params = {\n",
    "    \"num_labels\": 7,\n",
    "    \"batch_size\": 4,\n",
    "    \"chunk_size\": 500,\n",
    "    \"chunk_overlap\": 50,\n",
    "    \"balance_multiplier\": 1.5\n",
    "}\n",
    "\n",
    "train_dataloader = loader.get_dataloader(\"data/train_data\", loader_params, train_label_mapping, balance_data=True, print_info=False)\n",
    "test_dataloader = loader.get_dataloader(\"data/test_data\", loader_params, test_label_mapping, balance_data=False, print_info=False)"
   ]
  },
  {
   "cell_type": "code",
   "execution_count": 5,
   "metadata": {},
   "outputs": [
    {
     "name": "stdout",
     "output_type": "stream",
     "text": [
      "Epochs  || Train Loss | Train Acc || Test Loss | Test Acc\n",
      "0  /10  ||    1.909   |   0.284   ||   1.832   |  0.301  \n",
      "1  /10  ||    1.517   |   0.464   ||   1.470   |  0.446  \n",
      "2  /10  ||    1.081   |   0.634   ||   1.362   |  0.440  \n",
      "3  /10  ||    0.810   |   0.736   ||   1.447   |  0.434  \n",
      "4  /10  ||    0.683   |   0.784   ||   1.319   |  0.470  \n",
      "5  /10  ||    0.543   |   0.816   ||   1.527   |  0.464  \n",
      "6  /10  ||    0.470   |   0.857   ||   1.412   |  0.488  \n",
      "7  /10  ||    0.399   |   0.859   ||   1.373   |  0.518  \n",
      "8  /10  ||    0.323   |   0.920   ||   1.378   |  0.500  \n",
      "9  /10  ||    0.277   |   0.923   ||   1.282   |  0.548  \n"
     ]
    }
   ],
   "source": [
    "model_params = {\n",
    "    \"input_dim\": 384,\n",
    "    \"hidden_dim\": 128,\n",
    "    \"output_dim\": loader_params['num_labels'],\n",
    "    \"dropout\": 0.5\n",
    "}\n",
    "train_params = {\n",
    "    \"epochs\": 10,\n",
    "    \"learning_rate\": 1e-3\n",
    "}\n",
    "\n",
    "\n",
    "\n",
    "model = models.Classifier(**model_params)\n",
    "optim = torch.optim.Adam(model.parameters(), lr=train_params['learning_rate'])\n",
    "model.to(device)\n",
    "\n",
    "print(f\"Epochs  || Train Loss | Train Acc || Test Loss | Test Acc\")\n",
    "for epoch in range(train_params['epochs']):\n",
    "    train_loss = []\n",
    "    num_correct, num_total = 0, 0\n",
    "    for iter, (embeddings, labels) in enumerate(train_dataloader):\n",
    "        embeddings, labels = embeddings.to(device), labels.to(device)        \n",
    "        optim.zero_grad()\n",
    "        logits = model(embeddings)\n",
    "        \n",
    "        loss, correct_preds = utility.compute_loss_preds(logits, labels)\n",
    "        loss.backward()\n",
    "        optim.step()\n",
    "\n",
    "        num_correct += correct_preds\n",
    "        num_total += labels.shape[0]\n",
    "        train_loss.append(loss.cpu().item())\n",
    "\n",
    "    eval_loss, eval_acc = utility.evaluate_model(model, test_dataloader, device)\n",
    "    train_loss = torch.tensor(train_loss)\n",
    "    print(f\"{epoch:<3}/{train_params['epochs']:<3} ||    {train_loss.mean():.3f}   |   {num_correct/num_total:.3f}   ||   {eval_loss:.3f}   |  {eval_acc:.3f}  \")"
   ]
  }
 ],
 "metadata": {
  "kernelspec": {
   "display_name": "philosophy_oracle",
   "language": "python",
   "name": "python3"
  },
  "language_info": {
   "codemirror_mode": {
    "name": "ipython",
    "version": 3
   },
   "file_extension": ".py",
   "mimetype": "text/x-python",
   "name": "python",
   "nbconvert_exporter": "python",
   "pygments_lexer": "ipython3",
   "version": "3.11.7"
  }
 },
 "nbformat": 4,
 "nbformat_minor": 2
}
