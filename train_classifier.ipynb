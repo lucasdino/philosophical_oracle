{
 "cells": [
  {
   "cell_type": "markdown",
   "metadata": {},
   "source": [
    "# Train our Philosophical Document Embedding Model"
   ]
  },
  {
   "cell_type": "code",
   "execution_count": 1,
   "metadata": {},
   "outputs": [
    {
     "name": "stderr",
     "output_type": "stream",
     "text": [
      "c:\\Users\\lucas\\Desktop\\UCSD\\256\\philosophical_oracle\\philosophy_oracle\\Lib\\site-packages\\tqdm\\auto.py:21: TqdmWarning: IProgress not found. Please update jupyter and ipywidgets. See https://ipywidgets.readthedocs.io/en/stable/user_install.html\n",
      "  from .autonotebook import tqdm as notebook_tqdm\n"
     ]
    },
    {
     "name": "stdout",
     "output_type": "stream",
     "text": [
      "Using device: cuda\n"
     ]
    }
   ],
   "source": [
    "import torch\n",
    "\n",
    "import loader\n",
    "import models\n",
    "import utility\n",
    "\n",
    "\n",
    "device = torch.device(\"cuda\" if torch.cuda.is_available() else \"cpu\")\n",
    "print(f\"Using device: {device}\")"
   ]
  },
  {
   "cell_type": "code",
   "execution_count": 2,
   "metadata": {},
   "outputs": [],
   "source": [
    "filename_category_mapping, category_label_mapping = loader.load_labeling_mappings()\n",
    "filename_label_mapping = filename_category_mapping\n",
    "for key, value in filename_label_mapping.items():\n",
    "    filename_label_mapping[key] = int(category_label_mapping[value])"
   ]
  },
  {
   "cell_type": "code",
   "execution_count": 3,
   "metadata": {},
   "outputs": [
    {
     "name": "stdout",
     "output_type": "stream",
     "text": [
      "Dataloader from ('['data\\\\base_texts', 'data\\\\wikipedia', 'data\\\\philosophize_this_transcripts', 'data\\\\gpt_summaries', 'data\\\\gpt_philosophy_game']') created with 157 batches in 7.5 seconds.\n",
      "Dataloader from ('['data\\\\eval_data']') created with 11 batches in 1.2 seconds.\n",
      "Epochs  || Train Loss | Train Acc || Test Loss | Test Acc\n",
      " 1 / 10 ||    1.908   |   0.230   ||   1.944   |  0.214  \n",
      " 2 / 10 ||    1.601   |   0.419   ||   1.874   |  0.238  \n",
      " 3 / 10 ||    1.224   |   0.590   ||   1.835   |  0.310  \n",
      " 4 / 10 ||    1.032   |   0.643   ||   1.805   |  0.381  \n",
      " 5 / 10 ||    0.868   |   0.722   ||   1.860   |  0.405  \n",
      " 6 / 10 ||    0.747   |   0.746   ||   1.763   |  0.381  \n",
      " 7 / 10 ||    0.660   |   0.758   ||   1.806   |  0.452  \n",
      " 8 / 10 ||    0.584   |   0.808   ||   1.783   |  0.405  \n",
      " 9 / 10 ||    0.560   |   0.806   ||   1.826   |  0.452  \n",
      " 10/ 10 ||    0.487   |   0.835   ||   1.929   |  0.405  \n",
      "Model saved to model_weights\\classifier_29k_11242024_010615.pth\n"
     ]
    }
   ],
   "source": [
    "loader_params = {\n",
    "    \"num_labels\": len(category_label_mapping),\n",
    "    \"batch_size\": 4,\n",
    "    \"chunk_size\": 5000,\n",
    "    \"chunk_overlap\": 100,\n",
    "    \"balance_multiplier\": 2,\n",
    "}\n",
    "\n",
    "model_params = {\n",
    "    \"input_dim\": 384,\n",
    "    \"hidden_dim\": 64,\n",
    "    \"output_dim\": loader_params['num_labels'],\n",
    "    \"dropout\": 0.35\n",
    "}\n",
    "train_params = {\n",
    "    \"epochs\": 10,\n",
    "    \"learning_rate\": 1e-3\n",
    "}\n",
    "\n",
    "# train_splits = {\n",
    "    # \"source_texts\": [\"base_texts\"],\n",
    "    # \"human_summaries\": [\"wikipedia\", \"philosophize_this_transcripts\"],\n",
    "    # \"gpt_data\": [\"gpt_summaries\", \"gpt_philosophy_game\"],\n",
    "    # \"all_human_texts\": [\"base_texts\", \"wikipedia\", \"philosophize_this_transcripts\"],\n",
    "    # \"all_summaries\": [\"wikipedia\", \"philosophize_this_transcripts\", \"gpt_summaries\", \"gpt_philosophy_game\"],\n",
    "    # \"all_sources\": [\"base_texts\", \"wikipedia\", \"philosophize_this_transcripts\", \"gpt_summaries\", \"gpt_philosophy_game\"],\n",
    "# }\n",
    "\n",
    "train_folders = [\"base_texts\", \"wikipedia\", \"philosophize_this_transcripts\", \"gpt_summaries\", \"gpt_philosophy_game\"]\n",
    "test_folders = [\"eval_data\"]\n",
    "filename_category_mapping, category_label_mapping = loader.load_labeling_mappings()\n",
    "\n",
    "train_dataloader = loader.get_dataloader(train_folders, loader_params, filename_label_mapping, balance_data=True, print_info=False)\n",
    "test_dataloader = loader.get_dataloader(test_folders, loader_params, filename_label_mapping, balance_data=False, print_info=False)\n",
    "\n",
    "model = models.Classifier(**model_params)\n",
    "optim = torch.optim.Adam(model.parameters(), lr=train_params['learning_rate'])\n",
    "model.to(device)\n",
    "\n",
    "print(f\"Epochs  || Train Loss | Train Acc || Test Loss | Test Acc\")\n",
    "for epoch in range(train_params['epochs']):\n",
    "    train_loss = []\n",
    "    num_correct, num_total = 0, 0\n",
    "    for iter, (embeddings, labels) in enumerate(train_dataloader):\n",
    "        embeddings, labels = embeddings.to(device), labels.to(device)        \n",
    "        optim.zero_grad()\n",
    "        logits = model(embeddings)\n",
    "        \n",
    "        loss, correct_preds = utility.compute_loss_preds(logits, labels)\n",
    "        loss.backward()\n",
    "        optim.step()\n",
    "\n",
    "        num_correct += correct_preds\n",
    "        num_total += labels.shape[0]\n",
    "        train_loss.append(loss.cpu().item())\n",
    "\n",
    "    eval_loss, eval_acc = utility.evaluate_model(model, test_dataloader, device)\n",
    "    train_loss = torch.tensor(train_loss)\n",
    "    print(f\" {epoch+1:<2}/{train_params['epochs']:>3} ||    {train_loss.mean():.3f}   |   {num_correct/num_total:.3f}   ||   {eval_loss:.3f}   |  {eval_acc:.3f}  \")\n",
    "\n",
    "model.to(\"cpu\")\n",
    "model.save_model()"
   ]
  }
 ],
 "metadata": {
  "kernelspec": {
   "display_name": "philosophy_oracle",
   "language": "python",
   "name": "python3"
  },
  "language_info": {
   "codemirror_mode": {
    "name": "ipython",
    "version": 3
   },
   "file_extension": ".py",
   "mimetype": "text/x-python",
   "name": "python",
   "nbconvert_exporter": "python",
   "pygments_lexer": "ipython3",
   "version": "3.11.7"
  }
 },
 "nbformat": 4,
 "nbformat_minor": 2
}
