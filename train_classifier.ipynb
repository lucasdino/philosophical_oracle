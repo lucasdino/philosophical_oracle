{
 "cells": [
  {
   "cell_type": "markdown",
   "metadata": {},
   "source": [
    "# Train our Philosophical Document Embedding Model"
   ]
  },
  {
   "cell_type": "code",
   "execution_count": 1,
   "metadata": {},
   "outputs": [
    {
     "name": "stderr",
     "output_type": "stream",
     "text": [
      "c:\\Users\\lucas\\Desktop\\UCSD\\256\\philosophical_oracle\\philosophy_oracle\\Lib\\site-packages\\tqdm\\auto.py:21: TqdmWarning: IProgress not found. Please update jupyter and ipywidgets. See https://ipywidgets.readthedocs.io/en/stable/user_install.html\n",
      "  from .autonotebook import tqdm as notebook_tqdm\n"
     ]
    },
    {
     "name": "stdout",
     "output_type": "stream",
     "text": [
      "Using device: cuda\n"
     ]
    }
   ],
   "source": [
    "import torch\n",
    "\n",
    "import loader\n",
    "import models\n",
    "import utility\n",
    "\n",
    "\n",
    "device = torch.device(\"cuda\" if torch.cuda.is_available() else \"cpu\")\n",
    "print(f\"Using device: {device}\")"
   ]
  },
  {
   "cell_type": "code",
   "execution_count": 2,
   "metadata": {},
   "outputs": [],
   "source": [
    "source_label_mapping = {\n",
    "    \"aurelius_meditations.txt\": 0,\n",
    "    \"beauvoir_ethicsambiguity.txt\": 1,\n",
    "    \"effectivealtruism.txt\": 2,\n",
    "    \"effectivealtruism_copy.txt\": 2,\n",
    "    \"emerson_selfreliance.txt\": 3,\n",
    "    \"kierkegaard_presentage.txt\": 4,\n",
    "    \"thoreau_walden.txt\": 5,\n",
    "    \"epicurus_lettermenoeceus.txt\": 6,\n",
    "    \"epicurus_lettermenoeceus_copy.txt\": 6\n",
    "}\n",
    "philthis_label_mapping = {\n",
    "    \"philthis_beauvoir.txt\": 1,\n",
    "    \"philthis_effectivealtruism.txt\": 2,\n",
    "    \"philthis_emerson.txt\": 3,\n",
    "    \"philthis_epicurus.txt\": 6,\n",
    "    \"philthis_kierkegaard.txt\": 4,\n",
    "    \"philthis_stoicism.txt\": 0,\n",
    "    \"philthis_thoreau.txt\": 5,\n",
    "}\n",
    "gpt_label_mapping = {\n",
    "    \"gpt_beauvoir.txt\": 1,\n",
    "    \"gpt_effectivealtruism.txt\": 2,\n",
    "    \"gpt_emerson.txt\": 3,\n",
    "    \"gpt_epicureanism.txt\": 6,\n",
    "    \"gpt_kierkegaard.txt\": 4,\n",
    "    \"gpt_stoicism.txt\": 0,\n",
    "    \"gpt_thoreau.txt\": 5,\n",
    "}"
   ]
  },
  {
   "cell_type": "code",
   "execution_count": 3,
   "metadata": {},
   "outputs": [
    {
     "name": "stdout",
     "output_type": "stream",
     "text": [
      "Dataloader from ('['data/train_data', 'data/test_data_pt']') created with 246 embeddings in 7.8 seconds.\n",
      "Dataloader from ('['data/test_data_gpt']') created with 19 embeddings in 1.3 seconds.\n"
     ]
    }
   ],
   "source": [
    "loader_params = {\n",
    "    \"num_labels\": 7,\n",
    "    \"batch_size\": 4,\n",
    "    \"chunk_size\": 1000,\n",
    "    \"chunk_overlap\": 10,\n",
    "    \"balance_multiplier\": 2,\n",
    "}\n",
    "\n",
    "train_folders = [\"data/train_data\", \"data/test_data_pt\"]\n",
    "test_folders = [\"data/test_data_gpt\"]\n",
    "train_label_mapping = source_label_mapping | philthis_label_mapping\n",
    "test_label_mapping = gpt_label_mapping\n",
    "\n",
    "train_dataloader = loader.get_dataloader(train_folders, loader_params, train_label_mapping, balance_data=True, print_info=False)\n",
    "test_dataloader = loader.get_dataloader(test_folders, loader_params, test_label_mapping, balance_data=False, print_info=False)"
   ]
  },
  {
   "cell_type": "code",
   "execution_count": 4,
   "metadata": {},
   "outputs": [
    {
     "name": "stdout",
     "output_type": "stream",
     "text": [
      "Epochs  || Train Loss | Train Acc || Test Loss | Test Acc\n",
      " 1 / 10 ||    1.603   |   0.406   ||   1.018   |  0.644  \n",
      " 2 / 10 ||    0.765   |   0.740   ||   0.419   |  0.932  \n",
      " 3 / 10 ||    0.533   |   0.817   ||   0.338   |  0.918  \n",
      " 4 / 10 ||    0.408   |   0.860   ||   0.374   |  0.890  \n",
      " 5 / 10 ||    0.319   |   0.895   ||   0.217   |  0.918  \n",
      " 6 / 10 ||    0.251   |   0.919   ||   0.192   |  0.945  \n",
      " 7 / 10 ||    0.211   |   0.934   ||   0.228   |  0.904  \n",
      " 8 / 10 ||    0.167   |   0.939   ||   0.261   |  0.904  \n",
      " 9 / 10 ||    0.136   |   0.962   ||   0.201   |  0.904  \n",
      " 10/ 10 ||    0.097   |   0.982   ||   0.314   |  0.877  \n"
     ]
    }
   ],
   "source": [
    "model_params = {\n",
    "    \"input_dim\": 384,\n",
    "    \"hidden_dim\": 128,\n",
    "    \"output_dim\": loader_params['num_labels'],\n",
    "    \"dropout\": 0.35\n",
    "}\n",
    "train_params = {\n",
    "    \"epochs\": 10,\n",
    "    \"learning_rate\": 1e-3\n",
    "}\n",
    "\n",
    "\n",
    "\n",
    "model = models.Classifier(**model_params)\n",
    "optim = torch.optim.Adam(model.parameters(), lr=train_params['learning_rate'])\n",
    "model.to(device)\n",
    "\n",
    "print(f\"Epochs  || Train Loss | Train Acc || Test Loss | Test Acc\")\n",
    "for epoch in range(train_params['epochs']):\n",
    "    train_loss = []\n",
    "    num_correct, num_total = 0, 0\n",
    "    for iter, (embeddings, labels) in enumerate(train_dataloader):\n",
    "        embeddings, labels = embeddings.to(device), labels.to(device)        \n",
    "        optim.zero_grad()\n",
    "        logits = model(embeddings)\n",
    "        \n",
    "        loss, correct_preds = utility.compute_loss_preds(logits, labels)\n",
    "        loss.backward()\n",
    "        optim.step()\n",
    "\n",
    "        num_correct += correct_preds\n",
    "        num_total += labels.shape[0]\n",
    "        train_loss.append(loss.cpu().item())\n",
    "\n",
    "    eval_loss, eval_acc = utility.evaluate_model(model, test_dataloader, device)\n",
    "    train_loss = torch.tensor(train_loss)\n",
    "    print(f\" {epoch+1:<2}/{train_params['epochs']:>3} ||    {train_loss.mean():.3f}   |   {num_correct/num_total:.3f}   ||   {eval_loss:.3f}   |  {eval_acc:.3f}  \")"
   ]
  }
 ],
 "metadata": {
  "kernelspec": {
   "display_name": "philosophy_oracle",
   "language": "python",
   "name": "python3"
  },
  "language_info": {
   "codemirror_mode": {
    "name": "ipython",
    "version": 3
   },
   "file_extension": ".py",
   "mimetype": "text/x-python",
   "name": "python",
   "nbconvert_exporter": "python",
   "pygments_lexer": "ipython3",
   "version": "3.11.7"
  }
 },
 "nbformat": 4,
 "nbformat_minor": 2
}
