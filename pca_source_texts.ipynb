{
 "cells": [
  {
   "cell_type": "code",
   "execution_count": 24,
   "metadata": {},
   "outputs": [
    {
     "name": "stdout",
     "output_type": "stream",
     "text": [
      "Using device: cuda\n"
     ]
    }
   ],
   "source": [
    "import os\n",
    "import numpy as np\n",
    "import matplotlib.pyplot as plt\n",
    "from sklearn.decomposition import PCA\n",
    "from mpl_toolkits.mplot3d import Axes3D\n",
    "import plotly.express as px\n",
    "\n",
    "import torch\n",
    "import torch.nn as nn\n",
    "\n",
    "import models\n",
    "\n",
    "from sentence_transformers import SentenceTransformer\n",
    "from langchain.text_splitter import RecursiveCharacterTextSplitter\n",
    "\n",
    "device = torch.device(\"cuda\" if torch.cuda.is_available() else \"cpu\")\n",
    "print(f\"Using device: {device}\")"
   ]
  },
  {
   "cell_type": "code",
   "execution_count": null,
   "metadata": {},
   "outputs": [
    {
     "name": "stderr",
     "output_type": "stream",
     "text": [
      "c:\\Users\\lucas\\Desktop\\UCSD\\256\\philosophical_oracle\\models\\classifier.py:50: FutureWarning:\n",
      "\n",
      "You are using `torch.load` with `weights_only=False` (the current default value), which uses the default pickle module implicitly. It is possible to construct malicious pickle data which will execute arbitrary code during unpickling (See https://github.com/pytorch/pytorch/blob/main/SECURITY.md#untrusted-models for more details). In a future release, the default value for `weights_only` will be flipped to `True`. This limits the functions that could be executed during unpickling. Arbitrary objects will no longer be allowed to be loaded via this mode unless they are explicitly allowlisted by the user via `torch.serialization.add_safe_globals`. We recommend you start setting `weights_only=True` for any use case where you don't have full control of the loaded file. Please open an issue on GitHub for any issues related to this experimental feature.\n",
      "\n"
     ]
    },
    {
     "name": "stdout",
     "output_type": "stream",
     "text": [
      "Model loaded from model_weights\\classifier_29k_11242024_191853.pth\n"
     ]
    }
   ],
   "source": [
    "splitter = RecursiveCharacterTextSplitter(chunk_size=2000, chunk_overlap=100)\n",
    "embedder = SentenceTransformer('all-MiniLM-L6-v2')\n",
    "\n",
    "filename = 'classifier_29k_11242024_191324.pth'\n",
    "model = models.Classifier.load_model(filename).to(device)\n",
    "\n",
    "class FirstLayerExtractor(nn.Module):\n",
    "    def __init__(self, original_model):\n",
    "        super(FirstLayerExtractor, self).__init__()\n",
    "        self.fc1 = original_model.fc1\n",
    "\n",
    "    def forward(self, x):\n",
    "        output = self.fc1(x)  # Pass through the first layer\n",
    "        return torch.nn.functional.normalize(output, p=2, dim=-1)  # Normalize the output\n",
    "\n",
    "# Wrap the model to use only the first layer\n",
    "first_layer_model = FirstLayerExtractor(model).to(device)\n",
    "\n",
    "\n",
    "data = dict()\n",
    "folders = ['all_gpt_summaries', 'all_philosophize_this_transcripts', 'all_source_texts', 'all_wikipedias']\n",
    "# folders = ['all_gpt_summaries']\n",
    "# folders = ['select_all_texts']\n",
    "\n",
    "for folder in folders:\n",
    "    data_folder = os.path.join('data', 'all_texts', folder)\n",
    "    for filename in os.listdir(data_folder):\n",
    "        filepath = os.path.join(data_folder, filename)\n",
    "        tensors = []\n",
    "\n",
    "        with open(filepath, 'r', encoding='utf-8') as file:\n",
    "            text = file.read()\n",
    "        chunks = splitter.split_text(text)\n",
    "        embeddings = embedder.encode(chunks)\n",
    "\n",
    "\n",
    "        for embedding in embeddings:\n",
    "            with torch.no_grad():\n",
    "                embedding = torch.tensor(embedding).to(device)\n",
    "                embedding = first_layer_model(embedding).cpu()\n",
    "            tensors.append(embedding)\n",
    "\n",
    "        tensor_stack = torch.stack(tensors, dim=1)\n",
    "        mean_tensor = tensor_stack.mean(dim=1)\n",
    "        data[filename] = mean_tensor"
   ]
  },
  {
   "cell_type": "code",
   "execution_count": 26,
   "metadata": {},
   "outputs": [],
   "source": [
    "filename_to_category = {\n",
    "    \"aurelius_meditations.txt\": \"Stoicism\",\n",
    "    \"beauvoir_ethicsambiguity.txt\": \"Existentialism\",\n",
    "    \"buddha_stanford_pe.txt\": \"Buddhism\",\n",
    "    \"camus_sisyphus.txt\": \"Absurdism\",\n",
    "    \"camus_thestranger.txt\": \"Absurdism\",\n",
    "    \"confucius_analects.txt\": \"Confucianism\",\n",
    "    \"emerson_selfreliance.txt\": \"Transcendentalism\",\n",
    "    \"epicurus_fragments.txt\": \"Epicureanism\",\n",
    "    \"epicurus_lettermenoeceus.txt\": \"Epicureanism\",\n",
    "    \"essence_of_buddha.txt\": \"Buddhism\",\n",
    "    \"kafka_thetrial.txt\": \"Absurdism\",\n",
    "    \"kierkegaard_presentage.txt\": \"Existentialism\",\n",
    "    \"laozi_taoteching.txt\": \"Taoism\",\n",
    "    \"leibniz_theodicity.txt\": \"Rationalism\",\n",
    "    \"nietzsche_tsz.txt\": \"Existentialism\",\n",
    "    \"spinoza_ethics.txt\": \"Rationalism\",\n",
    "    \"thoreau_walden.txt\": \"Transcendentalism\",\n",
    "    \"absurdism_wikipedia.txt\": \"Absurdism\",\n",
    "    \"buddhism_wikipedia.txt\": \"Buddhism\",\n",
    "    \"confucianism_wikipedia.txt\": \"Confucianism\",\n",
    "    \"effectivealtruism_wikipedia.txt\": \"Effective Altruism\",\n",
    "    \"epicureanism_wikipedia.txt\": \"Epicureanism\",\n",
    "    \"existentialism_wikipedia.txt\": \"Existentialism\",\n",
    "    \"rationalism_wikipedia.txt\": \"Rationalism\",\n",
    "    \"stoicism_wikipedia.txt\": \"Stoicism\",\n",
    "    \"taoism_wikipedia.txt\": \"Taoism\",\n",
    "    \"transcendentalism_wikipedia.txt\": \"Transcendentalism\",\n",
    "    \"gpt_beauvoir.txt\": \"Existentialism\",\n",
    "    \"gpt_buddhism.txt\": \"Buddhism\",\n",
    "    \"gpt_camus.txt\": \"Absurdism\",\n",
    "    \"gpt_emerson.txt\": \"Transcendentalism\",\n",
    "    \"gpt_epicureanism.txt\": \"Epicureanism\",\n",
    "    \"gpt_kafka.txt\": \"Absurdism\",\n",
    "    \"gpt_kierkegaard.txt\": \"Existentialism\",\n",
    "    \"gpt_leibniz.txt\": \"Rationalism\",\n",
    "    \"gpt_nietzsche.txt\": \"Existentialism\",\n",
    "    \"gpt_spinoza.txt\": \"Rationalism\",\n",
    "    \"gpt_stoicism.txt\": \"Stoicism\",\n",
    "    \"gpt_thoreau.txt\": \"Transcendentalism\",\n",
    "    \"philthis_beauvoir.txt\": \"Existentialism\",\n",
    "    \"philthis_buddhism.txt\": \"Buddhism\",\n",
    "    \"philthis_camus.txt\": \"Absurdism\",\n",
    "    \"philthis_emerson.txt\": \"Transcendentalism\",\n",
    "    \"philthis_epicurus.txt\": \"Epicureanism\",\n",
    "    \"philthis_kierkegaard.txt\": \"Existentialism\",\n",
    "    \"philthis_leibniz.txt\": \"Rationalism\",\n",
    "    \"philthis_nietzsche.txt\": \"Existentialism\",\n",
    "    \"philthis_spinoza.txt\": \"Rationalism\",\n",
    "    \"philthis_stoicism.txt\": \"Stoicism\",\n",
    "    \"philthis_thoreau.txt\": \"Transcendentalism\",\n",
    "}"
   ]
  },
  {
   "cell_type": "code",
   "execution_count": 27,
   "metadata": {},
   "outputs": [
    {
     "data": {
      "application/vnd.plotly.v1+json": {
       "config": {
        "plotlyServerURL": "https://plot.ly"
       },
       "data": [
        {
         "hovertemplate": "<b>%{hovertext}</b><br><br>Category=Existentialism<br>PC1=%{x}<br>PC2=%{y}<br>PC3=%{z}<extra></extra>",
         "hovertext": [
          "gpt_beauvoir.txt",
          "gpt_kierkegaard.txt",
          "gpt_nietzsche.txt",
          "philthis_beauvoir.txt",
          "philthis_kierkegaard.txt",
          "philthis_nietzsche.txt",
          "beauvoir_ethicsambiguity.txt",
          "kierkegaard_presentage.txt",
          "nietzsche_tsz.txt",
          "existentialism_wikipedia.txt"
         ],
         "legendgroup": "Existentialism",
         "marker": {
          "color": "#636efa",
          "size": 5,
          "symbol": "circle"
         },
         "mode": "markers",
         "name": "Existentialism",
         "scene": "scene",
         "showlegend": true,
         "type": "scatter3d",
         "x": [
          0.0021865915,
          -0.0313185,
          0.016765593,
          0.031785514,
          -0.067275465,
          -0.088206075,
          -0.028512055,
          -0.0075899195,
          -0.28906354,
          -0.11495055
         ],
         "y": [
          0.33281165,
          0.4568675,
          0.23483069,
          0.23061316,
          0.20449083,
          0.19435944,
          0.13252701,
          0.11796514,
          -0.020145558,
          0.37634668
         ],
         "z": [
          0.25243863,
          0.15893751,
          0.10162498,
          0.10507584,
          0.21370904,
          0.053419337,
          0.11049711,
          0.06766636,
          -0.10182383,
          0.06162871
         ]
        },
        {
         "hovertemplate": "<b>%{hovertext}</b><br><br>Category=Buddhism<br>PC1=%{x}<br>PC2=%{y}<br>PC3=%{z}<extra></extra>",
         "hovertext": [
          "gpt_buddhism.txt",
          "philthis_buddhism.txt",
          "buddha_stanford_pe.txt",
          "essence_of_buddha.txt",
          "buddhism_wikipedia.txt"
         ],
         "legendgroup": "Buddhism",
         "marker": {
          "color": "#EF553B",
          "size": 5,
          "symbol": "circle"
         },
         "mode": "markers",
         "name": "Buddhism",
         "scene": "scene",
         "showlegend": true,
         "type": "scatter3d",
         "x": [
          -0.3208699,
          -0.23974629,
          -0.24201763,
          -0.55424565,
          -0.25375596
         ],
         "y": [
          0.20179303,
          0.19854644,
          0.26572937,
          0.103691876,
          0.22814083
         ],
         "z": [
          0.2610777,
          0.23830156,
          0.24811311,
          0.009863881,
          0.25307918
         ]
        },
        {
         "hovertemplate": "<b>%{hovertext}</b><br><br>Category=Absurdism<br>PC1=%{x}<br>PC2=%{y}<br>PC3=%{z}<extra></extra>",
         "hovertext": [
          "gpt_camus.txt",
          "gpt_kafka.txt",
          "philthis_camus.txt",
          "camus_sisyphus.txt",
          "camus_thestranger.txt",
          "kafka_thetrial.txt",
          "absurdism_wikipedia.txt"
         ],
         "legendgroup": "Absurdism",
         "marker": {
          "color": "#00cc96",
          "size": 5,
          "symbol": "circle"
         },
         "mode": "markers",
         "name": "Absurdism",
         "scene": "scene",
         "showlegend": true,
         "type": "scatter3d",
         "x": [
          0.034627233,
          0.1472562,
          0.09106048,
          -0.031679258,
          0.09629205,
          0.3180569,
          0.102205805
         ],
         "y": [
          0.3732423,
          0.5176522,
          0.3945378,
          0.37623042,
          -0.23179007,
          -0.21954355,
          0.58314
         ],
         "z": [
          -0.08444152,
          -0.061215512,
          -0.15053046,
          -0.13577768,
          -0.21759811,
          -0.25649107,
          -0.13547976
         ]
        },
        {
         "hovertemplate": "<b>%{hovertext}</b><br><br>Category=Transcendentalism<br>PC1=%{x}<br>PC2=%{y}<br>PC3=%{z}<extra></extra>",
         "hovertext": [
          "gpt_emerson.txt",
          "gpt_thoreau.txt",
          "philthis_emerson.txt",
          "philthis_thoreau.txt",
          "emerson_selfreliance.txt",
          "thoreau_walden.txt",
          "transcendentalism_wikipedia.txt"
         ],
         "legendgroup": "Transcendentalism",
         "marker": {
          "color": "#ab63fa",
          "size": 5,
          "symbol": "circle"
         },
         "mode": "markers",
         "name": "Transcendentalism",
         "scene": "scene",
         "showlegend": true,
         "type": "scatter3d",
         "x": [
          0.3071201,
          0.21163394,
          0.28888234,
          0.2532145,
          -0.063231334,
          -0.054769795,
          0.1606009
         ],
         "y": [
          -0.37457538,
          -0.43053824,
          -0.24383385,
          -0.34563753,
          -0.112976894,
          -0.103755675,
          -0.3888314
         ],
         "z": [
          0.6224341,
          0.5790942,
          0.50851774,
          0.52591616,
          -0.05179327,
          -0.012394373,
          0.5296964
         ]
        },
        {
         "hovertemplate": "<b>%{hovertext}</b><br><br>Category=Epicureanism<br>PC1=%{x}<br>PC2=%{y}<br>PC3=%{z}<extra></extra>",
         "hovertext": [
          "gpt_epicureanism.txt",
          "philthis_epicurus.txt",
          "epicurus_fragments.txt",
          "epicurus_lettermenoeceus.txt",
          "epicureanism_wikipedia.txt"
         ],
         "legendgroup": "Epicureanism",
         "marker": {
          "color": "#FFA15A",
          "size": 5,
          "symbol": "circle"
         },
         "mode": "markers",
         "name": "Epicureanism",
         "scene": "scene",
         "showlegend": true,
         "type": "scatter3d",
         "x": [
          -0.54085696,
          -0.37640575,
          -0.43595022,
          -0.3455055,
          -0.495034
         ],
         "y": [
          -0.27882594,
          -0.30739778,
          -0.2516434,
          -0.008593033,
          -0.26320368
         ],
         "z": [
          -0.3516624,
          -0.37803212,
          -0.22364418,
          -0.18768983,
          -0.44282144
         ]
        },
        {
         "hovertemplate": "<b>%{hovertext}</b><br><br>Category=Rationalism<br>PC1=%{x}<br>PC2=%{y}<br>PC3=%{z}<extra></extra>",
         "hovertext": [
          "gpt_leibniz.txt",
          "gpt_spinoza.txt",
          "philthis_leibniz.txt",
          "philthis_spinoza.txt",
          "leibniz_theodicity.txt",
          "spinoza_ethics.txt",
          "rationalism_wikipedia.txt"
         ],
         "legendgroup": "Rationalism",
         "marker": {
          "color": "#19d3f3",
          "size": 5,
          "symbol": "circle"
         },
         "mode": "markers",
         "name": "Rationalism",
         "scene": "scene",
         "showlegend": true,
         "type": "scatter3d",
         "x": [
          0.69159055,
          0.61174417,
          0.71992606,
          0.64873433,
          0.08178765,
          0.014030417,
          0.6212537
         ],
         "y": [
          -0.015573945,
          -0.15492965,
          0.07347955,
          -0.21883814,
          0.021270009,
          0.06327518,
          -0.0056881793
         ],
         "z": [
          -0.34737566,
          -0.3157268,
          -0.2535831,
          -0.34682328,
          -0.184525,
          -0.15070745,
          -0.29155955
         ]
        },
        {
         "hovertemplate": "<b>%{hovertext}</b><br><br>Category=Stoicism<br>PC1=%{x}<br>PC2=%{y}<br>PC3=%{z}<extra></extra>",
         "hovertext": [
          "gpt_stoicism.txt",
          "philthis_stoicism.txt",
          "aurelius_meditations.txt",
          "stoicism_wikipedia.txt"
         ],
         "legendgroup": "Stoicism",
         "marker": {
          "color": "#FF6692",
          "size": 5,
          "symbol": "circle"
         },
         "mode": "markers",
         "name": "Stoicism",
         "scene": "scene",
         "showlegend": true,
         "type": "scatter3d",
         "x": [
          -0.24010868,
          -0.2110034,
          -0.1831793,
          -0.23547964
         ],
         "y": [
          -0.61438185,
          -0.49423793,
          -0.11040311,
          -0.48619607
         ],
         "z": [
          -0.010880535,
          -0.07244531,
          0.011963395,
          -0.148032
         ]
        }
       ],
       "layout": {
        "height": 800,
        "legend": {
         "title": {
          "text": "Category"
         },
         "tracegroupgap": 0
        },
        "scene": {
         "domain": {
          "x": [
           0,
           1
          ],
          "y": [
           0,
           1
          ]
         },
         "xaxis": {
          "title": {
           "text": "PC 1"
          }
         },
         "yaxis": {
          "title": {
           "text": "PC 2"
          }
         },
         "zaxis": {
          "title": {
           "text": "PC 3"
          }
         }
        },
        "template": {
         "data": {
          "bar": [
           {
            "error_x": {
             "color": "#2a3f5f"
            },
            "error_y": {
             "color": "#2a3f5f"
            },
            "marker": {
             "line": {
              "color": "#E5ECF6",
              "width": 0.5
             },
             "pattern": {
              "fillmode": "overlay",
              "size": 10,
              "solidity": 0.2
             }
            },
            "type": "bar"
           }
          ],
          "barpolar": [
           {
            "marker": {
             "line": {
              "color": "#E5ECF6",
              "width": 0.5
             },
             "pattern": {
              "fillmode": "overlay",
              "size": 10,
              "solidity": 0.2
             }
            },
            "type": "barpolar"
           }
          ],
          "carpet": [
           {
            "aaxis": {
             "endlinecolor": "#2a3f5f",
             "gridcolor": "white",
             "linecolor": "white",
             "minorgridcolor": "white",
             "startlinecolor": "#2a3f5f"
            },
            "baxis": {
             "endlinecolor": "#2a3f5f",
             "gridcolor": "white",
             "linecolor": "white",
             "minorgridcolor": "white",
             "startlinecolor": "#2a3f5f"
            },
            "type": "carpet"
           }
          ],
          "choropleth": [
           {
            "colorbar": {
             "outlinewidth": 0,
             "ticks": ""
            },
            "type": "choropleth"
           }
          ],
          "contour": [
           {
            "colorbar": {
             "outlinewidth": 0,
             "ticks": ""
            },
            "colorscale": [
             [
              0,
              "#0d0887"
             ],
             [
              0.1111111111111111,
              "#46039f"
             ],
             [
              0.2222222222222222,
              "#7201a8"
             ],
             [
              0.3333333333333333,
              "#9c179e"
             ],
             [
              0.4444444444444444,
              "#bd3786"
             ],
             [
              0.5555555555555556,
              "#d8576b"
             ],
             [
              0.6666666666666666,
              "#ed7953"
             ],
             [
              0.7777777777777778,
              "#fb9f3a"
             ],
             [
              0.8888888888888888,
              "#fdca26"
             ],
             [
              1,
              "#f0f921"
             ]
            ],
            "type": "contour"
           }
          ],
          "contourcarpet": [
           {
            "colorbar": {
             "outlinewidth": 0,
             "ticks": ""
            },
            "type": "contourcarpet"
           }
          ],
          "heatmap": [
           {
            "colorbar": {
             "outlinewidth": 0,
             "ticks": ""
            },
            "colorscale": [
             [
              0,
              "#0d0887"
             ],
             [
              0.1111111111111111,
              "#46039f"
             ],
             [
              0.2222222222222222,
              "#7201a8"
             ],
             [
              0.3333333333333333,
              "#9c179e"
             ],
             [
              0.4444444444444444,
              "#bd3786"
             ],
             [
              0.5555555555555556,
              "#d8576b"
             ],
             [
              0.6666666666666666,
              "#ed7953"
             ],
             [
              0.7777777777777778,
              "#fb9f3a"
             ],
             [
              0.8888888888888888,
              "#fdca26"
             ],
             [
              1,
              "#f0f921"
             ]
            ],
            "type": "heatmap"
           }
          ],
          "heatmapgl": [
           {
            "colorbar": {
             "outlinewidth": 0,
             "ticks": ""
            },
            "colorscale": [
             [
              0,
              "#0d0887"
             ],
             [
              0.1111111111111111,
              "#46039f"
             ],
             [
              0.2222222222222222,
              "#7201a8"
             ],
             [
              0.3333333333333333,
              "#9c179e"
             ],
             [
              0.4444444444444444,
              "#bd3786"
             ],
             [
              0.5555555555555556,
              "#d8576b"
             ],
             [
              0.6666666666666666,
              "#ed7953"
             ],
             [
              0.7777777777777778,
              "#fb9f3a"
             ],
             [
              0.8888888888888888,
              "#fdca26"
             ],
             [
              1,
              "#f0f921"
             ]
            ],
            "type": "heatmapgl"
           }
          ],
          "histogram": [
           {
            "marker": {
             "pattern": {
              "fillmode": "overlay",
              "size": 10,
              "solidity": 0.2
             }
            },
            "type": "histogram"
           }
          ],
          "histogram2d": [
           {
            "colorbar": {
             "outlinewidth": 0,
             "ticks": ""
            },
            "colorscale": [
             [
              0,
              "#0d0887"
             ],
             [
              0.1111111111111111,
              "#46039f"
             ],
             [
              0.2222222222222222,
              "#7201a8"
             ],
             [
              0.3333333333333333,
              "#9c179e"
             ],
             [
              0.4444444444444444,
              "#bd3786"
             ],
             [
              0.5555555555555556,
              "#d8576b"
             ],
             [
              0.6666666666666666,
              "#ed7953"
             ],
             [
              0.7777777777777778,
              "#fb9f3a"
             ],
             [
              0.8888888888888888,
              "#fdca26"
             ],
             [
              1,
              "#f0f921"
             ]
            ],
            "type": "histogram2d"
           }
          ],
          "histogram2dcontour": [
           {
            "colorbar": {
             "outlinewidth": 0,
             "ticks": ""
            },
            "colorscale": [
             [
              0,
              "#0d0887"
             ],
             [
              0.1111111111111111,
              "#46039f"
             ],
             [
              0.2222222222222222,
              "#7201a8"
             ],
             [
              0.3333333333333333,
              "#9c179e"
             ],
             [
              0.4444444444444444,
              "#bd3786"
             ],
             [
              0.5555555555555556,
              "#d8576b"
             ],
             [
              0.6666666666666666,
              "#ed7953"
             ],
             [
              0.7777777777777778,
              "#fb9f3a"
             ],
             [
              0.8888888888888888,
              "#fdca26"
             ],
             [
              1,
              "#f0f921"
             ]
            ],
            "type": "histogram2dcontour"
           }
          ],
          "mesh3d": [
           {
            "colorbar": {
             "outlinewidth": 0,
             "ticks": ""
            },
            "type": "mesh3d"
           }
          ],
          "parcoords": [
           {
            "line": {
             "colorbar": {
              "outlinewidth": 0,
              "ticks": ""
             }
            },
            "type": "parcoords"
           }
          ],
          "pie": [
           {
            "automargin": true,
            "type": "pie"
           }
          ],
          "scatter": [
           {
            "fillpattern": {
             "fillmode": "overlay",
             "size": 10,
             "solidity": 0.2
            },
            "type": "scatter"
           }
          ],
          "scatter3d": [
           {
            "line": {
             "colorbar": {
              "outlinewidth": 0,
              "ticks": ""
             }
            },
            "marker": {
             "colorbar": {
              "outlinewidth": 0,
              "ticks": ""
             }
            },
            "type": "scatter3d"
           }
          ],
          "scattercarpet": [
           {
            "marker": {
             "colorbar": {
              "outlinewidth": 0,
              "ticks": ""
             }
            },
            "type": "scattercarpet"
           }
          ],
          "scattergeo": [
           {
            "marker": {
             "colorbar": {
              "outlinewidth": 0,
              "ticks": ""
             }
            },
            "type": "scattergeo"
           }
          ],
          "scattergl": [
           {
            "marker": {
             "colorbar": {
              "outlinewidth": 0,
              "ticks": ""
             }
            },
            "type": "scattergl"
           }
          ],
          "scattermapbox": [
           {
            "marker": {
             "colorbar": {
              "outlinewidth": 0,
              "ticks": ""
             }
            },
            "type": "scattermapbox"
           }
          ],
          "scatterpolar": [
           {
            "marker": {
             "colorbar": {
              "outlinewidth": 0,
              "ticks": ""
             }
            },
            "type": "scatterpolar"
           }
          ],
          "scatterpolargl": [
           {
            "marker": {
             "colorbar": {
              "outlinewidth": 0,
              "ticks": ""
             }
            },
            "type": "scatterpolargl"
           }
          ],
          "scatterternary": [
           {
            "marker": {
             "colorbar": {
              "outlinewidth": 0,
              "ticks": ""
             }
            },
            "type": "scatterternary"
           }
          ],
          "surface": [
           {
            "colorbar": {
             "outlinewidth": 0,
             "ticks": ""
            },
            "colorscale": [
             [
              0,
              "#0d0887"
             ],
             [
              0.1111111111111111,
              "#46039f"
             ],
             [
              0.2222222222222222,
              "#7201a8"
             ],
             [
              0.3333333333333333,
              "#9c179e"
             ],
             [
              0.4444444444444444,
              "#bd3786"
             ],
             [
              0.5555555555555556,
              "#d8576b"
             ],
             [
              0.6666666666666666,
              "#ed7953"
             ],
             [
              0.7777777777777778,
              "#fb9f3a"
             ],
             [
              0.8888888888888888,
              "#fdca26"
             ],
             [
              1,
              "#f0f921"
             ]
            ],
            "type": "surface"
           }
          ],
          "table": [
           {
            "cells": {
             "fill": {
              "color": "#EBF0F8"
             },
             "line": {
              "color": "white"
             }
            },
            "header": {
             "fill": {
              "color": "#C8D4E3"
             },
             "line": {
              "color": "white"
             }
            },
            "type": "table"
           }
          ]
         },
         "layout": {
          "annotationdefaults": {
           "arrowcolor": "#2a3f5f",
           "arrowhead": 0,
           "arrowwidth": 1
          },
          "autotypenumbers": "strict",
          "coloraxis": {
           "colorbar": {
            "outlinewidth": 0,
            "ticks": ""
           }
          },
          "colorscale": {
           "diverging": [
            [
             0,
             "#8e0152"
            ],
            [
             0.1,
             "#c51b7d"
            ],
            [
             0.2,
             "#de77ae"
            ],
            [
             0.3,
             "#f1b6da"
            ],
            [
             0.4,
             "#fde0ef"
            ],
            [
             0.5,
             "#f7f7f7"
            ],
            [
             0.6,
             "#e6f5d0"
            ],
            [
             0.7,
             "#b8e186"
            ],
            [
             0.8,
             "#7fbc41"
            ],
            [
             0.9,
             "#4d9221"
            ],
            [
             1,
             "#276419"
            ]
           ],
           "sequential": [
            [
             0,
             "#0d0887"
            ],
            [
             0.1111111111111111,
             "#46039f"
            ],
            [
             0.2222222222222222,
             "#7201a8"
            ],
            [
             0.3333333333333333,
             "#9c179e"
            ],
            [
             0.4444444444444444,
             "#bd3786"
            ],
            [
             0.5555555555555556,
             "#d8576b"
            ],
            [
             0.6666666666666666,
             "#ed7953"
            ],
            [
             0.7777777777777778,
             "#fb9f3a"
            ],
            [
             0.8888888888888888,
             "#fdca26"
            ],
            [
             1,
             "#f0f921"
            ]
           ],
           "sequentialminus": [
            [
             0,
             "#0d0887"
            ],
            [
             0.1111111111111111,
             "#46039f"
            ],
            [
             0.2222222222222222,
             "#7201a8"
            ],
            [
             0.3333333333333333,
             "#9c179e"
            ],
            [
             0.4444444444444444,
             "#bd3786"
            ],
            [
             0.5555555555555556,
             "#d8576b"
            ],
            [
             0.6666666666666666,
             "#ed7953"
            ],
            [
             0.7777777777777778,
             "#fb9f3a"
            ],
            [
             0.8888888888888888,
             "#fdca26"
            ],
            [
             1,
             "#f0f921"
            ]
           ]
          },
          "colorway": [
           "#636efa",
           "#EF553B",
           "#00cc96",
           "#ab63fa",
           "#FFA15A",
           "#19d3f3",
           "#FF6692",
           "#B6E880",
           "#FF97FF",
           "#FECB52"
          ],
          "font": {
           "color": "#2a3f5f"
          },
          "geo": {
           "bgcolor": "white",
           "lakecolor": "white",
           "landcolor": "#E5ECF6",
           "showlakes": true,
           "showland": true,
           "subunitcolor": "white"
          },
          "hoverlabel": {
           "align": "left"
          },
          "hovermode": "closest",
          "mapbox": {
           "style": "light"
          },
          "paper_bgcolor": "white",
          "plot_bgcolor": "#E5ECF6",
          "polar": {
           "angularaxis": {
            "gridcolor": "white",
            "linecolor": "white",
            "ticks": ""
           },
           "bgcolor": "#E5ECF6",
           "radialaxis": {
            "gridcolor": "white",
            "linecolor": "white",
            "ticks": ""
           }
          },
          "scene": {
           "xaxis": {
            "backgroundcolor": "#E5ECF6",
            "gridcolor": "white",
            "gridwidth": 2,
            "linecolor": "white",
            "showbackground": true,
            "ticks": "",
            "zerolinecolor": "white"
           },
           "yaxis": {
            "backgroundcolor": "#E5ECF6",
            "gridcolor": "white",
            "gridwidth": 2,
            "linecolor": "white",
            "showbackground": true,
            "ticks": "",
            "zerolinecolor": "white"
           },
           "zaxis": {
            "backgroundcolor": "#E5ECF6",
            "gridcolor": "white",
            "gridwidth": 2,
            "linecolor": "white",
            "showbackground": true,
            "ticks": "",
            "zerolinecolor": "white"
           }
          },
          "shapedefaults": {
           "line": {
            "color": "#2a3f5f"
           }
          },
          "ternary": {
           "aaxis": {
            "gridcolor": "white",
            "linecolor": "white",
            "ticks": ""
           },
           "baxis": {
            "gridcolor": "white",
            "linecolor": "white",
            "ticks": ""
           },
           "bgcolor": "#E5ECF6",
           "caxis": {
            "gridcolor": "white",
            "linecolor": "white",
            "ticks": ""
           }
          },
          "title": {
           "x": 0.05
          },
          "xaxis": {
           "automargin": true,
           "gridcolor": "white",
           "linecolor": "white",
           "ticks": "",
           "title": {
            "standoff": 15
           },
           "zerolinecolor": "white",
           "zerolinewidth": 2
          },
          "yaxis": {
           "automargin": true,
           "gridcolor": "white",
           "linecolor": "white",
           "ticks": "",
           "title": {
            "standoff": 15
           },
           "zerolinecolor": "white",
           "zerolinewidth": 2
          }
         }
        },
        "title": {
         "text": "PCA Visualization of Source Texts"
        },
        "width": 1200
       }
      }
     },
     "metadata": {},
     "output_type": "display_data"
    }
   ],
   "source": [
    "def plot_pca_3d(data, filename_to_category, title=\"PCA 3D Plot\"):\n",
    "    \"\"\"\n",
    "    Conducts PCA on a list of tensor vectors and plots the result in a 3D interactive chart.\n",
    "    \n",
    "    Args:\n",
    "        data (dict): A dictionary with 'filename: tensor' pairs.\n",
    "        filename_to_category (dict): A dictionary mapping filenames to categories (labels).\n",
    "        title (str): The title of the plot.\n",
    "    \"\"\"\n",
    "    # Aggregate tensors and metadata\n",
    "    filenames = []\n",
    "    categories = []\n",
    "    tensors = []\n",
    "    \n",
    "    for filename, tensor in data.items():\n",
    "        filenames.append(filename)\n",
    "        categories.append(filename_to_category[filename])\n",
    "        tensors.append(tensor.numpy())  # Convert to NumPy array for PCA\n",
    "\n",
    "    # Stack tensors into a matrix for PCA\n",
    "    tensor_matrix = np.stack(tensors)  # Shape: [num_files, 384]\n",
    "\n",
    "    # Perform PCA to reduce dimensions to 3\n",
    "    pca = PCA(n_components=3)\n",
    "    pca_result = pca.fit_transform(tensor_matrix)  # Shape: [num_files, 3]\n",
    "\n",
    "    # Create a DataFrame for plotting\n",
    "    import pandas as pd\n",
    "    plot_data = pd.DataFrame({\n",
    "        'PC1': pca_result[:, 0],\n",
    "        'PC2': pca_result[:, 1],\n",
    "        'PC3': pca_result[:, 2],\n",
    "        'Filename': filenames,\n",
    "        'Category': categories\n",
    "    })\n",
    "\n",
    "    # Plot using Plotly for interactivity\n",
    "    fig = px.scatter_3d(\n",
    "        plot_data,\n",
    "        x='PC1',\n",
    "        y='PC2',\n",
    "        z='PC3',\n",
    "        color='Category',  # Color by category\n",
    "        hover_name='Filename',  # Show filename on hover\n",
    "        title=title\n",
    "    )\n",
    "    \n",
    "    fig.update_traces(marker=dict(size=5))  # Adjust marker size\n",
    "    fig.update_layout(\n",
    "        scene=dict(\n",
    "            xaxis_title='PC 1',\n",
    "            yaxis_title='PC 2',\n",
    "            zaxis_title='PC 3'\n",
    "        ),\n",
    "        width=1200,  # Set plot width\n",
    "        height=800   # Set plot height\n",
    "    )\n",
    "\n",
    "    fig.show()\n",
    "\n",
    "\n",
    "plot_pca_3d(data, filename_to_category, title=\"PCA Visualization of Source Texts\")"
   ]
  },
  {
   "cell_type": "code",
   "execution_count": 28,
   "metadata": {},
   "outputs": [
    {
     "name": "stderr",
     "output_type": "stream",
     "text": [
      "C:\\Users\\lucas\\AppData\\Local\\Temp\\ipykernel_21316\\3630624649.py:32: MatplotlibDeprecationWarning:\n",
      "\n",
      "The get_cmap function was deprecated in Matplotlib 3.7 and will be removed in 3.11. Use ``matplotlib.colormaps[name]`` or ``matplotlib.colormaps.get_cmap()`` or ``pyplot.get_cmap()`` instead.\n",
      "\n"
     ]
    },
    {
     "data": {
      "image/png": "[encoded data removed]",
      "text/plain": [
       "<Figure size 700x500 with 1 Axes>"
      ]
     },
     "metadata": {},
     "output_type": "display_data"
    }
   ],
   "source": [
    "from matplotlib.cm import get_cmap\n",
    "\n",
    "\n",
    "def plot_pca_2d(data, filename_to_category, title=\"PCA 2D Plot\"):\n",
    "    \"\"\"\n",
    "    Conducts PCA on a list of tensor vectors and plots the result in a 2D chart using Matplotlib.\n",
    "    \n",
    "    Args:\n",
    "        data (dict): A dictionary with 'filename: tensor' pairs.\n",
    "        filename_to_category (dict): A dictionary mapping filenames to categories (labels).\n",
    "        title (str): The title of the plot.\n",
    "    \"\"\"\n",
    "    # Aggregate tensors and metadata\n",
    "    filenames = []\n",
    "    categories = []\n",
    "    tensors = []\n",
    "    \n",
    "    for filename, tensor in data.items():\n",
    "        filenames.append(filename)\n",
    "        categories.append(filename_to_category[filename])\n",
    "        tensors.append(tensor.numpy())  # Convert to NumPy array for PCA\n",
    "\n",
    "    # Stack tensors into a matrix for PCA\n",
    "    tensor_matrix = np.stack(tensors)  # Shape: [num_files, 384]\n",
    "\n",
    "    # Perform PCA to reduce dimensions to 2\n",
    "    pca = PCA(n_components=2)\n",
    "    pca_result = pca.fit_transform(tensor_matrix)  # Shape: [num_files, 2]\n",
    "\n",
    "    # Create a mapping of unique categories to colors\n",
    "    unique_categories = sorted(set(categories))\n",
    "    cmap = get_cmap('tab10')  # A color map with clear distinct colors\n",
    "    category_to_color = {category: cmap(i / len(unique_categories)) for i, category in enumerate(unique_categories)}\n",
    "\n",
    "    # Plot PCA results\n",
    "    plt.figure(figsize=(7, 5))\n",
    "    for i, (pc1, pc2) in enumerate(pca_result):\n",
    "        category = categories[i]\n",
    "        color = category_to_color[category]\n",
    "        plt.scatter(pc1, pc2, color=color, label=category if category not in plt.gca().get_legend_handles_labels()[1] else \"\")\n",
    "        # plt.text(pc1, pc2, filenames[i], fontsize=8, alpha=0.7)\n",
    "\n",
    "    # Add legend and labels\n",
    "    plt.title(title)\n",
    "    plt.xlabel('Principal Component 1')\n",
    "    plt.ylabel('Principal Component 2')\n",
    "    plt.grid(True, linestyle='--', alpha=0.7)\n",
    "    plt.legend(title=\"Category\", loc=\"best\", fontsize=8)\n",
    "    plt.tight_layout()\n",
    "    plt.show()\n",
    "\n",
    "plot_pca_2d(data, filename_to_category, title=\"PCA Visualization of Hidden Layer Outputs\")"
   ]
  },
  {
   "cell_type": "code",
   "execution_count": null,
   "metadata": {},
   "outputs": [],
   "source": []
  }
 ],
 "metadata": {
  "kernelspec": {
   "display_name": "philosophy_oracle",
   "language": "python",
   "name": "python3"
  },
  "language_info": {
   "codemirror_mode": {
    "name": "ipython",
    "version": 3
   },
   "file_extension": ".py",
   "mimetype": "text/x-python",
   "name": "python",
   "nbconvert_exporter": "python",
   "pygments_lexer": "ipython3",
   "version": "3.11.7"
  }
 },
 "nbformat": 4,
 "nbformat_minor": 2
}
