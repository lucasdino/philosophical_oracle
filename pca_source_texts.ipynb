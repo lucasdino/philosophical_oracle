{
 "cells": [
  {
   "cell_type": "code",
   "execution_count": 46,
   "metadata": {},
   "outputs": [],
   "source": [
    "import os\n",
    "import numpy as np\n",
    "import matplotlib.pyplot as plt\n",
    "from sklearn.decomposition import PCA\n",
    "from mpl_toolkits.mplot3d import Axes3D\n",
    "import plotly.express as px\n",
    "import torch\n",
    "\n",
    "from sentence_transformers import SentenceTransformer\n",
    "from langchain.text_splitter import RecursiveCharacterTextSplitter"
   ]
  },
  {
   "cell_type": "code",
   "execution_count": 47,
   "metadata": {},
   "outputs": [],
   "source": [
    "splitter = RecursiveCharacterTextSplitter(chunk_size=1000, chunk_overlap=100)\n",
    "embedder = SentenceTransformer('all-MiniLM-L6-v2')\n",
    "\n",
    "data = dict()\n",
    "# folders = ['all_gpt_summaries', 'all_philosophize_this_transcripts', 'all_source_texts', 'all_wikipedias']\n",
    "folders = ['all_gpt_summaries']\n",
    "# folders = ['select_all_texts']\n",
    "\n",
    "for folder in folders:\n",
    "    data_folder = os.path.join('data', 'all_texts', folder)\n",
    "    for filename in os.listdir(data_folder):\n",
    "        filepath = os.path.join(data_folder, filename)\n",
    "        tensors = []\n",
    "\n",
    "        with open(filepath, 'r', encoding='utf-8') as file:\n",
    "            text = file.read()\n",
    "        chunks = splitter.split_text(text)\n",
    "        embeddings = embedder.encode(chunks)\n",
    "\n",
    "        for embedding in embeddings:\n",
    "            tensors.append(torch.tensor(embedding))\n",
    "\n",
    "        tensor_stack = torch.stack(tensors, dim=1)\n",
    "        mean_tensor = tensor_stack.mean(dim=1)\n",
    "        data[filename] = mean_tensor"
   ]
  },
  {
   "cell_type": "code",
   "execution_count": 48,
   "metadata": {},
   "outputs": [],
   "source": [
    "filename_to_category = {\n",
    "    \"aurelius_meditations.txt\": \"Stoicism\",\n",
    "    \"beauvoir_ethicsambiguity.txt\": \"Existentialism\",\n",
    "    \"buddha_stanford_pe.txt\": \"Buddhism\",\n",
    "    \"camus_sisyphus.txt\": \"Absurdism\",\n",
    "    \"camus_thestranger.txt\": \"Absurdism\",\n",
    "    \"confucius_analects.txt\": \"Confucianism\",\n",
    "    \"emerson_selfreliance.txt\": \"Transcendentalism\",\n",
    "    \"epicurus_fragments.txt\": \"Epicureanism\",\n",
    "    \"epicurus_lettermenoeceus.txt\": \"Epicureanism\",\n",
    "    \"essence_of_buddha.txt\": \"Buddhism\",\n",
    "    \"kafka_thetrial.txt\": \"Absurdism\",\n",
    "    \"kierkegaard_presentage.txt\": \"Existentialism\",\n",
    "    \"laozi_taoteching.txt\": \"Taoism\",\n",
    "    \"leibniz_theodicity.txt\": \"Rationalism\",\n",
    "    \"nietzsche_tsz.txt\": \"Existentialism\",\n",
    "    \"spinoza_ethics.txt\": \"Rationalism\",\n",
    "    \"thoreau_walden.txt\": \"Transcendentalism\",\n",
    "    \"absurdism_wikipedia.txt\": \"Absurdism\",\n",
    "    \"buddhism_wikipedia.txt\": \"Buddhism\",\n",
    "    \"confucianism_wikipedia.txt\": \"Confucianism\",\n",
    "    \"effectivealtruism_wikipedia.txt\": \"Effective Altruism\",\n",
    "    \"epicureanism_wikipedia.txt\": \"Epicureanism\",\n",
    "    \"existentialism_wikipedia.txt\": \"Existentialism\",\n",
    "    \"rationalism_wikipedia.txt\": \"Rationalism\",\n",
    "    \"stoicism_wikipedia.txt\": \"Stoicism\",\n",
    "    \"taoism_wikipedia.txt\": \"Taoism\",\n",
    "    \"transcendentalism_wikipedia.txt\": \"Transcendentalism\",\n",
    "    \"gpt_beauvoir.txt\": \"Existentialism\",\n",
    "    \"gpt_buddhism.txt\": \"Buddhism\",\n",
    "    \"gpt_camus.txt\": \"Absurdism\",\n",
    "    \"gpt_emerson.txt\": \"Transcendentalism\",\n",
    "    \"gpt_epicureanism.txt\": \"Epicureanism\",\n",
    "    \"gpt_kafka.txt\": \"Absurdism\",\n",
    "    \"gpt_kierkegaard.txt\": \"Existentialism\",\n",
    "    \"gpt_leibniz.txt\": \"Rationalism\",\n",
    "    \"gpt_nietzsche.txt\": \"Existentialism\",\n",
    "    \"gpt_spinoza.txt\": \"Rationalism\",\n",
    "    \"gpt_stoicism.txt\": \"Stoicism\",\n",
    "    \"gpt_thoreau.txt\": \"Transcendentalism\",\n",
    "    \"philthis_beauvoir.txt\": \"Existentialism\",\n",
    "    \"philthis_buddhism.txt\": \"Buddhism\",\n",
    "    \"philthis_camus.txt\": \"Absurdism\",\n",
    "    \"philthis_emerson.txt\": \"Transcendentalism\",\n",
    "    \"philthis_epicurus.txt\": \"Epicureanism\",\n",
    "    \"philthis_kierkegaard.txt\": \"Existentialism\",\n",
    "    \"philthis_leibniz.txt\": \"Rationalism\",\n",
    "    \"philthis_nietzsche.txt\": \"Existentialism\",\n",
    "    \"philthis_spinoza.txt\": \"Rationalism\",\n",
    "    \"philthis_stoicism.txt\": \"Stoicism\",\n",
    "    \"philthis_thoreau.txt\": \"Transcendentalism\",\n",
    "}"
   ]
  },
  {
   "cell_type": "code",
   "execution_count": 49,
   "metadata": {},
   "outputs": [
    {
     "data": {
      "application/vnd.plotly.v1+json": {
       "config": {
        "plotlyServerURL": "https://plot.ly"
       },
       "data": [
        {
         "hovertemplate": "<b>%{hovertext}</b><br><br>Category=Existentialism<br>PC1=%{x}<br>PC2=%{y}<br>PC3=%{z}<extra></extra>",
         "hovertext": [
          "gpt_beauvoir.txt",
          "gpt_kierkegaard.txt",
          "gpt_nietzsche.txt"
         ],
         "legendgroup": "Existentialism",
         "marker": {
          "color": "#636efa",
          "size": 5,
          "symbol": "circle"
         },
         "mode": "markers",
         "name": "Existentialism",
         "scene": "scene",
         "showlegend": true,
         "type": "scatter3d",
         "x": [
          0.16069424,
          0.18478705,
          -0.0034095296
         ],
         "y": [
          0.032276344,
          -0.022946075,
          0.029213855
         ],
         "z": [
          0.29945028,
          -0.2161545,
          -0.034304827
         ]
        },
        {
         "hovertemplate": "<b>%{hovertext}</b><br><br>Category=Buddhism<br>PC1=%{x}<br>PC2=%{y}<br>PC3=%{z}<extra></extra>",
         "hovertext": [
          "gpt_buddhism.txt"
         ],
         "legendgroup": "Buddhism",
         "marker": {
          "color": "#EF553B",
          "size": 5,
          "symbol": "circle"
         },
         "mode": "markers",
         "name": "Buddhism",
         "scene": "scene",
         "showlegend": true,
         "type": "scatter3d",
         "x": [
          0.048374195
         ],
         "y": [
          -0.13392864
         ],
         "z": [
          -0.25993827
         ]
        },
        {
         "hovertemplate": "<b>%{hovertext}</b><br><br>Category=Absurdism<br>PC1=%{x}<br>PC2=%{y}<br>PC3=%{z}<extra></extra>",
         "hovertext": [
          "gpt_camus.txt",
          "gpt_kafka.txt"
         ],
         "legendgroup": "Absurdism",
         "marker": {
          "color": "#00cc96",
          "size": 5,
          "symbol": "circle"
         },
         "mode": "markers",
         "name": "Absurdism",
         "scene": "scene",
         "showlegend": true,
         "type": "scatter3d",
         "x": [
          0.25683928,
          0.3908599
         ],
         "y": [
          0.08871856,
          0.39380196
         ],
         "z": [
          0.3105239,
          -0.17342177
         ]
        },
        {
         "hovertemplate": "<b>%{hovertext}</b><br><br>Category=Transcendentalism<br>PC1=%{x}<br>PC2=%{y}<br>PC3=%{z}<extra></extra>",
         "hovertext": [
          "gpt_emerson.txt",
          "gpt_thoreau.txt"
         ],
         "legendgroup": "Transcendentalism",
         "marker": {
          "color": "#ab63fa",
          "size": 5,
          "symbol": "circle"
         },
         "mode": "markers",
         "name": "Transcendentalism",
         "scene": "scene",
         "showlegend": true,
         "type": "scatter3d",
         "x": [
          -0.15607221,
          -0.086159974
         ],
         "y": [
          -0.0957358,
          -0.17765467
         ],
         "z": [
          0.09806831,
          0.24841635
         ]
        },
        {
         "hovertemplate": "<b>%{hovertext}</b><br><br>Category=Epicureanism<br>PC1=%{x}<br>PC2=%{y}<br>PC3=%{z}<extra></extra>",
         "hovertext": [
          "gpt_epicureanism.txt"
         ],
         "legendgroup": "Epicureanism",
         "marker": {
          "color": "#FFA15A",
          "size": 5,
          "symbol": "circle"
         },
         "mode": "markers",
         "name": "Epicureanism",
         "scene": "scene",
         "showlegend": true,
         "type": "scatter3d",
         "x": [
          -0.018607963
         ],
         "y": [
          -0.35294005
         ],
         "z": [
          -0.12515613
         ]
        },
        {
         "hovertemplate": "<b>%{hovertext}</b><br><br>Category=Rationalism<br>PC1=%{x}<br>PC2=%{y}<br>PC3=%{z}<extra></extra>",
         "hovertext": [
          "gpt_leibniz.txt",
          "gpt_spinoza.txt"
         ],
         "legendgroup": "Rationalism",
         "marker": {
          "color": "#19d3f3",
          "size": 5,
          "symbol": "circle"
         },
         "mode": "markers",
         "name": "Rationalism",
         "scene": "scene",
         "showlegend": true,
         "type": "scatter3d",
         "x": [
          -0.43176228,
          -0.35958084
         ],
         "y": [
          0.38550586,
          0.10543126
         ],
         "z": [
          -0.037793696,
          -0.031880535
         ]
        },
        {
         "hovertemplate": "<b>%{hovertext}</b><br><br>Category=Stoicism<br>PC1=%{x}<br>PC2=%{y}<br>PC3=%{z}<extra></extra>",
         "hovertext": [
          "gpt_stoicism.txt"
         ],
         "legendgroup": "Stoicism",
         "marker": {
          "color": "#FF6692",
          "size": 5,
          "symbol": "circle"
         },
         "mode": "markers",
         "name": "Stoicism",
         "scene": "scene",
         "showlegend": true,
         "type": "scatter3d",
         "x": [
          0.014037934
         ],
         "y": [
          -0.25174236
         ],
         "z": [
          -0.07780903
         ]
        }
       ],
       "layout": {
        "height": 800,
        "legend": {
         "title": {
          "text": "Category"
         },
         "tracegroupgap": 0
        },
        "scene": {
         "domain": {
          "x": [
           0,
           1
          ],
          "y": [
           0,
           1
          ]
         },
         "xaxis": {
          "title": {
           "text": "PC 1"
          }
         },
         "yaxis": {
          "title": {
           "text": "PC 2"
          }
         },
         "zaxis": {
          "title": {
           "text": "PC 3"
          }
         }
        },
        "template": {
         "data": {
          "bar": [
           {
            "error_x": {
             "color": "#2a3f5f"
            },
            "error_y": {
             "color": "#2a3f5f"
            },
            "marker": {
             "line": {
              "color": "#E5ECF6",
              "width": 0.5
             },
             "pattern": {
              "fillmode": "overlay",
              "size": 10,
              "solidity": 0.2
             }
            },
            "type": "bar"
           }
          ],
          "barpolar": [
           {
            "marker": {
             "line": {
              "color": "#E5ECF6",
              "width": 0.5
             },
             "pattern": {
              "fillmode": "overlay",
              "size": 10,
              "solidity": 0.2
             }
            },
            "type": "barpolar"
           }
          ],
          "carpet": [
           {
            "aaxis": {
             "endlinecolor": "#2a3f5f",
             "gridcolor": "white",
             "linecolor": "white",
             "minorgridcolor": "white",
             "startlinecolor": "#2a3f5f"
            },
            "baxis": {
             "endlinecolor": "#2a3f5f",
             "gridcolor": "white",
             "linecolor": "white",
             "minorgridcolor": "white",
             "startlinecolor": "#2a3f5f"
            },
            "type": "carpet"
           }
          ],
          "choropleth": [
           {
            "colorbar": {
             "outlinewidth": 0,
             "ticks": ""
            },
            "type": "choropleth"
           }
          ],
          "contour": [
           {
            "colorbar": {
             "outlinewidth": 0,
             "ticks": ""
            },
            "colorscale": [
             [
              0,
              "#0d0887"
             ],
             [
              0.1111111111111111,
              "#46039f"
             ],
             [
              0.2222222222222222,
              "#7201a8"
             ],
             [
              0.3333333333333333,
              "#9c179e"
             ],
             [
              0.4444444444444444,
              "#bd3786"
             ],
             [
              0.5555555555555556,
              "#d8576b"
             ],
             [
              0.6666666666666666,
              "#ed7953"
             ],
             [
              0.7777777777777778,
              "#fb9f3a"
             ],
             [
              0.8888888888888888,
              "#fdca26"
             ],
             [
              1,
              "#f0f921"
             ]
            ],
            "type": "contour"
           }
          ],
          "contourcarpet": [
           {
            "colorbar": {
             "outlinewidth": 0,
             "ticks": ""
            },
            "type": "contourcarpet"
           }
          ],
          "heatmap": [
           {
            "colorbar": {
             "outlinewidth": 0,
             "ticks": ""
            },
            "colorscale": [
             [
              0,
              "#0d0887"
             ],
             [
              0.1111111111111111,
              "#46039f"
             ],
             [
              0.2222222222222222,
              "#7201a8"
             ],
             [
              0.3333333333333333,
              "#9c179e"
             ],
             [
              0.4444444444444444,
              "#bd3786"
             ],
             [
              0.5555555555555556,
              "#d8576b"
             ],
             [
              0.6666666666666666,
              "#ed7953"
             ],
             [
              0.7777777777777778,
              "#fb9f3a"
             ],
             [
              0.8888888888888888,
              "#fdca26"
             ],
             [
              1,
              "#f0f921"
             ]
            ],
            "type": "heatmap"
           }
          ],
          "heatmapgl": [
           {
            "colorbar": {
             "outlinewidth": 0,
             "ticks": ""
            },
            "colorscale": [
             [
              0,
              "#0d0887"
             ],
             [
              0.1111111111111111,
              "#46039f"
             ],
             [
              0.2222222222222222,
              "#7201a8"
             ],
             [
              0.3333333333333333,
              "#9c179e"
             ],
             [
              0.4444444444444444,
              "#bd3786"
             ],
             [
              0.5555555555555556,
              "#d8576b"
             ],
             [
              0.6666666666666666,
              "#ed7953"
             ],
             [
              0.7777777777777778,
              "#fb9f3a"
             ],
             [
              0.8888888888888888,
              "#fdca26"
             ],
             [
              1,
              "#f0f921"
             ]
            ],
            "type": "heatmapgl"
           }
          ],
          "histogram": [
           {
            "marker": {
             "pattern": {
              "fillmode": "overlay",
              "size": 10,
              "solidity": 0.2
             }
            },
            "type": "histogram"
           }
          ],
          "histogram2d": [
           {
            "colorbar": {
             "outlinewidth": 0,
             "ticks": ""
            },
            "colorscale": [
             [
              0,
              "#0d0887"
             ],
             [
              0.1111111111111111,
              "#46039f"
             ],
             [
              0.2222222222222222,
              "#7201a8"
             ],
             [
              0.3333333333333333,
              "#9c179e"
             ],
             [
              0.4444444444444444,
              "#bd3786"
             ],
             [
              0.5555555555555556,
              "#d8576b"
             ],
             [
              0.6666666666666666,
              "#ed7953"
             ],
             [
              0.7777777777777778,
              "#fb9f3a"
             ],
             [
              0.8888888888888888,
              "#fdca26"
             ],
             [
              1,
              "#f0f921"
             ]
            ],
            "type": "histogram2d"
           }
          ],
          "histogram2dcontour": [
           {
            "colorbar": {
             "outlinewidth": 0,
             "ticks": ""
            },
            "colorscale": [
             [
              0,
              "#0d0887"
             ],
             [
              0.1111111111111111,
              "#46039f"
             ],
             [
              0.2222222222222222,
              "#7201a8"
             ],
             [
              0.3333333333333333,
              "#9c179e"
             ],
             [
              0.4444444444444444,
              "#bd3786"
             ],
             [
              0.5555555555555556,
              "#d8576b"
             ],
             [
              0.6666666666666666,
              "#ed7953"
             ],
             [
              0.7777777777777778,
              "#fb9f3a"
             ],
             [
              0.8888888888888888,
              "#fdca26"
             ],
             [
              1,
              "#f0f921"
             ]
            ],
            "type": "histogram2dcontour"
           }
          ],
          "mesh3d": [
           {
            "colorbar": {
             "outlinewidth": 0,
             "ticks": ""
            },
            "type": "mesh3d"
           }
          ],
          "parcoords": [
           {
            "line": {
             "colorbar": {
              "outlinewidth": 0,
              "ticks": ""
             }
            },
            "type": "parcoords"
           }
          ],
          "pie": [
           {
            "automargin": true,
            "type": "pie"
           }
          ],
          "scatter": [
           {
            "fillpattern": {
             "fillmode": "overlay",
             "size": 10,
             "solidity": 0.2
            },
            "type": "scatter"
           }
          ],
          "scatter3d": [
           {
            "line": {
             "colorbar": {
              "outlinewidth": 0,
              "ticks": ""
             }
            },
            "marker": {
             "colorbar": {
              "outlinewidth": 0,
              "ticks": ""
             }
            },
            "type": "scatter3d"
           }
          ],
          "scattercarpet": [
           {
            "marker": {
             "colorbar": {
              "outlinewidth": 0,
              "ticks": ""
             }
            },
            "type": "scattercarpet"
           }
          ],
          "scattergeo": [
           {
            "marker": {
             "colorbar": {
              "outlinewidth": 0,
              "ticks": ""
             }
            },
            "type": "scattergeo"
           }
          ],
          "scattergl": [
           {
            "marker": {
             "colorbar": {
              "outlinewidth": 0,
              "ticks": ""
             }
            },
            "type": "scattergl"
           }
          ],
          "scattermapbox": [
           {
            "marker": {
             "colorbar": {
              "outlinewidth": 0,
              "ticks": ""
             }
            },
            "type": "scattermapbox"
           }
          ],
          "scatterpolar": [
           {
            "marker": {
             "colorbar": {
              "outlinewidth": 0,
              "ticks": ""
             }
            },
            "type": "scatterpolar"
           }
          ],
          "scatterpolargl": [
           {
            "marker": {
             "colorbar": {
              "outlinewidth": 0,
              "ticks": ""
             }
            },
            "type": "scatterpolargl"
           }
          ],
          "scatterternary": [
           {
            "marker": {
             "colorbar": {
              "outlinewidth": 0,
              "ticks": ""
             }
            },
            "type": "scatterternary"
           }
          ],
          "surface": [
           {
            "colorbar": {
             "outlinewidth": 0,
             "ticks": ""
            },
            "colorscale": [
             [
              0,
              "#0d0887"
             ],
             [
              0.1111111111111111,
              "#46039f"
             ],
             [
              0.2222222222222222,
              "#7201a8"
             ],
             [
              0.3333333333333333,
              "#9c179e"
             ],
             [
              0.4444444444444444,
              "#bd3786"
             ],
             [
              0.5555555555555556,
              "#d8576b"
             ],
             [
              0.6666666666666666,
              "#ed7953"
             ],
             [
              0.7777777777777778,
              "#fb9f3a"
             ],
             [
              0.8888888888888888,
              "#fdca26"
             ],
             [
              1,
              "#f0f921"
             ]
            ],
            "type": "surface"
           }
          ],
          "table": [
           {
            "cells": {
             "fill": {
              "color": "#EBF0F8"
             },
             "line": {
              "color": "white"
             }
            },
            "header": {
             "fill": {
              "color": "#C8D4E3"
             },
             "line": {
              "color": "white"
             }
            },
            "type": "table"
           }
          ]
         },
         "layout": {
          "annotationdefaults": {
           "arrowcolor": "#2a3f5f",
           "arrowhead": 0,
           "arrowwidth": 1
          },
          "autotypenumbers": "strict",
          "coloraxis": {
           "colorbar": {
            "outlinewidth": 0,
            "ticks": ""
           }
          },
          "colorscale": {
           "diverging": [
            [
             0,
             "#8e0152"
            ],
            [
             0.1,
             "#c51b7d"
            ],
            [
             0.2,
             "#de77ae"
            ],
            [
             0.3,
             "#f1b6da"
            ],
            [
             0.4,
             "#fde0ef"
            ],
            [
             0.5,
             "#f7f7f7"
            ],
            [
             0.6,
             "#e6f5d0"
            ],
            [
             0.7,
             "#b8e186"
            ],
            [
             0.8,
             "#7fbc41"
            ],
            [
             0.9,
             "#4d9221"
            ],
            [
             1,
             "#276419"
            ]
           ],
           "sequential": [
            [
             0,
             "#0d0887"
            ],
            [
             0.1111111111111111,
             "#46039f"
            ],
            [
             0.2222222222222222,
             "#7201a8"
            ],
            [
             0.3333333333333333,
             "#9c179e"
            ],
            [
             0.4444444444444444,
             "#bd3786"
            ],
            [
             0.5555555555555556,
             "#d8576b"
            ],
            [
             0.6666666666666666,
             "#ed7953"
            ],
            [
             0.7777777777777778,
             "#fb9f3a"
            ],
            [
             0.8888888888888888,
             "#fdca26"
            ],
            [
             1,
             "#f0f921"
            ]
           ],
           "sequentialminus": [
            [
             0,
             "#0d0887"
            ],
            [
             0.1111111111111111,
             "#46039f"
            ],
            [
             0.2222222222222222,
             "#7201a8"
            ],
            [
             0.3333333333333333,
             "#9c179e"
            ],
            [
             0.4444444444444444,
             "#bd3786"
            ],
            [
             0.5555555555555556,
             "#d8576b"
            ],
            [
             0.6666666666666666,
             "#ed7953"
            ],
            [
             0.7777777777777778,
             "#fb9f3a"
            ],
            [
             0.8888888888888888,
             "#fdca26"
            ],
            [
             1,
             "#f0f921"
            ]
           ]
          },
          "colorway": [
           "#636efa",
           "#EF553B",
           "#00cc96",
           "#ab63fa",
           "#FFA15A",
           "#19d3f3",
           "#FF6692",
           "#B6E880",
           "#FF97FF",
           "#FECB52"
          ],
          "font": {
           "color": "#2a3f5f"
          },
          "geo": {
           "bgcolor": "white",
           "lakecolor": "white",
           "landcolor": "#E5ECF6",
           "showlakes": true,
           "showland": true,
           "subunitcolor": "white"
          },
          "hoverlabel": {
           "align": "left"
          },
          "hovermode": "closest",
          "mapbox": {
           "style": "light"
          },
          "paper_bgcolor": "white",
          "plot_bgcolor": "#E5ECF6",
          "polar": {
           "angularaxis": {
            "gridcolor": "white",
            "linecolor": "white",
            "ticks": ""
           },
           "bgcolor": "#E5ECF6",
           "radialaxis": {
            "gridcolor": "white",
            "linecolor": "white",
            "ticks": ""
           }
          },
          "scene": {
           "xaxis": {
            "backgroundcolor": "#E5ECF6",
            "gridcolor": "white",
            "gridwidth": 2,
            "linecolor": "white",
            "showbackground": true,
            "ticks": "",
            "zerolinecolor": "white"
           },
           "yaxis": {
            "backgroundcolor": "#E5ECF6",
            "gridcolor": "white",
            "gridwidth": 2,
            "linecolor": "white",
            "showbackground": true,
            "ticks": "",
            "zerolinecolor": "white"
           },
           "zaxis": {
            "backgroundcolor": "#E5ECF6",
            "gridcolor": "white",
            "gridwidth": 2,
            "linecolor": "white",
            "showbackground": true,
            "ticks": "",
            "zerolinecolor": "white"
           }
          },
          "shapedefaults": {
           "line": {
            "color": "#2a3f5f"
           }
          },
          "ternary": {
           "aaxis": {
            "gridcolor": "white",
            "linecolor": "white",
            "ticks": ""
           },
           "baxis": {
            "gridcolor": "white",
            "linecolor": "white",
            "ticks": ""
           },
           "bgcolor": "#E5ECF6",
           "caxis": {
            "gridcolor": "white",
            "linecolor": "white",
            "ticks": ""
           }
          },
          "title": {
           "x": 0.05
          },
          "xaxis": {
           "automargin": true,
           "gridcolor": "white",
           "linecolor": "white",
           "ticks": "",
           "title": {
            "standoff": 15
           },
           "zerolinecolor": "white",
           "zerolinewidth": 2
          },
          "yaxis": {
           "automargin": true,
           "gridcolor": "white",
           "linecolor": "white",
           "ticks": "",
           "title": {
            "standoff": 15
           },
           "zerolinecolor": "white",
           "zerolinewidth": 2
          }
         }
        },
        "title": {
         "text": "PCA Visualization of Source Texts"
        },
        "width": 1200
       }
      }
     },
     "metadata": {},
     "output_type": "display_data"
    }
   ],
   "source": [
    "def plot_pca_3d(data, filename_to_category, title=\"PCA 3D Plot\"):\n",
    "    \"\"\"\n",
    "    Conducts PCA on a list of tensor vectors and plots the result in a 3D interactive chart.\n",
    "    \n",
    "    Args:\n",
    "        data (dict): A dictionary with 'filename: tensor' pairs.\n",
    "        filename_to_category (dict): A dictionary mapping filenames to categories (labels).\n",
    "        title (str): The title of the plot.\n",
    "    \"\"\"\n",
    "    # Aggregate tensors and metadata\n",
    "    filenames = []\n",
    "    categories = []\n",
    "    tensors = []\n",
    "    \n",
    "    for filename, tensor in data.items():\n",
    "        filenames.append(filename)\n",
    "        categories.append(filename_to_category[filename])\n",
    "        tensors.append(tensor.numpy())  # Convert to NumPy array for PCA\n",
    "\n",
    "    # Stack tensors into a matrix for PCA\n",
    "    tensor_matrix = np.stack(tensors)  # Shape: [num_files, 384]\n",
    "\n",
    "    # Perform PCA to reduce dimensions to 3\n",
    "    pca = PCA(n_components=3)\n",
    "    pca_result = pca.fit_transform(tensor_matrix)  # Shape: [num_files, 3]\n",
    "\n",
    "    # Create a DataFrame for plotting\n",
    "    import pandas as pd\n",
    "    plot_data = pd.DataFrame({\n",
    "        'PC1': pca_result[:, 0],\n",
    "        'PC2': pca_result[:, 1],\n",
    "        'PC3': pca_result[:, 2],\n",
    "        'Filename': filenames,\n",
    "        'Category': categories\n",
    "    })\n",
    "\n",
    "    # Plot using Plotly for interactivity\n",
    "    fig = px.scatter_3d(\n",
    "        plot_data,\n",
    "        x='PC1',\n",
    "        y='PC2',\n",
    "        z='PC3',\n",
    "        color='Category',  # Color by category\n",
    "        hover_name='Filename',  # Show filename on hover\n",
    "        title=title\n",
    "    )\n",
    "    \n",
    "    fig.update_traces(marker=dict(size=5))  # Adjust marker size\n",
    "    fig.update_layout(\n",
    "        scene=dict(\n",
    "            xaxis_title='PC 1',\n",
    "            yaxis_title='PC 2',\n",
    "            zaxis_title='PC 3'\n",
    "        ),\n",
    "        width=1200,  # Set plot width\n",
    "        height=800   # Set plot height\n",
    "    )\n",
    "\n",
    "    fig.show()\n",
    "\n",
    "\n",
    "plot_pca_3d(data, filename_to_category, title=\"PCA Visualization of Source Texts\")"
   ]
  },
  {
   "cell_type": "code",
   "execution_count": 51,
   "metadata": {},
   "outputs": [
    {
     "data": {
      "application/vnd.plotly.v1+json": {
       "config": {
        "plotlyServerURL": "https://plot.ly"
       },
       "data": [
        {
         "hovertemplate": "<b>%{hovertext}</b><br><br>Category=Existentialism<br>PC1=%{x}<br>PC2=%{y}<extra></extra>",
         "hovertext": [
          "gpt_beauvoir.txt",
          "gpt_kierkegaard.txt",
          "gpt_nietzsche.txt"
         ],
         "legendgroup": "Existentialism",
         "marker": {
          "color": "#636efa",
          "size": 7,
          "symbol": "circle"
         },
         "mode": "markers",
         "name": "Existentialism",
         "orientation": "v",
         "showlegend": true,
         "type": "scatter",
         "x": [
          0.16069424,
          0.18478705,
          -0.0034095296
         ],
         "xaxis": "x",
         "y": [
          0.032276344,
          -0.022946075,
          0.029213855
         ],
         "yaxis": "y"
        },
        {
         "hovertemplate": "<b>%{hovertext}</b><br><br>Category=Buddhism<br>PC1=%{x}<br>PC2=%{y}<extra></extra>",
         "hovertext": [
          "gpt_buddhism.txt"
         ],
         "legendgroup": "Buddhism",
         "marker": {
          "color": "#EF553B",
          "size": 7,
          "symbol": "circle"
         },
         "mode": "markers",
         "name": "Buddhism",
         "orientation": "v",
         "showlegend": true,
         "type": "scatter",
         "x": [
          0.048374195
         ],
         "xaxis": "x",
         "y": [
          -0.13392864
         ],
         "yaxis": "y"
        },
        {
         "hovertemplate": "<b>%{hovertext}</b><br><br>Category=Absurdism<br>PC1=%{x}<br>PC2=%{y}<extra></extra>",
         "hovertext": [
          "gpt_camus.txt",
          "gpt_kafka.txt"
         ],
         "legendgroup": "Absurdism",
         "marker": {
          "color": "#00cc96",
          "size": 7,
          "symbol": "circle"
         },
         "mode": "markers",
         "name": "Absurdism",
         "orientation": "v",
         "showlegend": true,
         "type": "scatter",
         "x": [
          0.25683928,
          0.3908599
         ],
         "xaxis": "x",
         "y": [
          0.08871856,
          0.39380196
         ],
         "yaxis": "y"
        },
        {
         "hovertemplate": "<b>%{hovertext}</b><br><br>Category=Transcendentalism<br>PC1=%{x}<br>PC2=%{y}<extra></extra>",
         "hovertext": [
          "gpt_emerson.txt",
          "gpt_thoreau.txt"
         ],
         "legendgroup": "Transcendentalism",
         "marker": {
          "color": "#ab63fa",
          "size": 7,
          "symbol": "circle"
         },
         "mode": "markers",
         "name": "Transcendentalism",
         "orientation": "v",
         "showlegend": true,
         "type": "scatter",
         "x": [
          -0.15607221,
          -0.086159974
         ],
         "xaxis": "x",
         "y": [
          -0.0957358,
          -0.17765467
         ],
         "yaxis": "y"
        },
        {
         "hovertemplate": "<b>%{hovertext}</b><br><br>Category=Epicureanism<br>PC1=%{x}<br>PC2=%{y}<extra></extra>",
         "hovertext": [
          "gpt_epicureanism.txt"
         ],
         "legendgroup": "Epicureanism",
         "marker": {
          "color": "#FFA15A",
          "size": 7,
          "symbol": "circle"
         },
         "mode": "markers",
         "name": "Epicureanism",
         "orientation": "v",
         "showlegend": true,
         "type": "scatter",
         "x": [
          -0.018607963
         ],
         "xaxis": "x",
         "y": [
          -0.35294005
         ],
         "yaxis": "y"
        },
        {
         "hovertemplate": "<b>%{hovertext}</b><br><br>Category=Rationalism<br>PC1=%{x}<br>PC2=%{y}<extra></extra>",
         "hovertext": [
          "gpt_leibniz.txt",
          "gpt_spinoza.txt"
         ],
         "legendgroup": "Rationalism",
         "marker": {
          "color": "#19d3f3",
          "size": 7,
          "symbol": "circle"
         },
         "mode": "markers",
         "name": "Rationalism",
         "orientation": "v",
         "showlegend": true,
         "type": "scatter",
         "x": [
          -0.43176228,
          -0.35958084
         ],
         "xaxis": "x",
         "y": [
          0.38550586,
          0.10543126
         ],
         "yaxis": "y"
        },
        {
         "hovertemplate": "<b>%{hovertext}</b><br><br>Category=Stoicism<br>PC1=%{x}<br>PC2=%{y}<extra></extra>",
         "hovertext": [
          "gpt_stoicism.txt"
         ],
         "legendgroup": "Stoicism",
         "marker": {
          "color": "#FF6692",
          "size": 7,
          "symbol": "circle"
         },
         "mode": "markers",
         "name": "Stoicism",
         "orientation": "v",
         "showlegend": true,
         "type": "scatter",
         "x": [
          0.014037934
         ],
         "xaxis": "x",
         "y": [
          -0.25174236
         ],
         "yaxis": "y"
        }
       ],
       "layout": {
        "height": 800,
        "legend": {
         "title": {
          "text": "Category"
         },
         "tracegroupgap": 0
        },
        "template": {
         "data": {
          "bar": [
           {
            "error_x": {
             "color": "#2a3f5f"
            },
            "error_y": {
             "color": "#2a3f5f"
            },
            "marker": {
             "line": {
              "color": "#E5ECF6",
              "width": 0.5
             },
             "pattern": {
              "fillmode": "overlay",
              "size": 10,
              "solidity": 0.2
             }
            },
            "type": "bar"
           }
          ],
          "barpolar": [
           {
            "marker": {
             "line": {
              "color": "#E5ECF6",
              "width": 0.5
             },
             "pattern": {
              "fillmode": "overlay",
              "size": 10,
              "solidity": 0.2
             }
            },
            "type": "barpolar"
           }
          ],
          "carpet": [
           {
            "aaxis": {
             "endlinecolor": "#2a3f5f",
             "gridcolor": "white",
             "linecolor": "white",
             "minorgridcolor": "white",
             "startlinecolor": "#2a3f5f"
            },
            "baxis": {
             "endlinecolor": "#2a3f5f",
             "gridcolor": "white",
             "linecolor": "white",
             "minorgridcolor": "white",
             "startlinecolor": "#2a3f5f"
            },
            "type": "carpet"
           }
          ],
          "choropleth": [
           {
            "colorbar": {
             "outlinewidth": 0,
             "ticks": ""
            },
            "type": "choropleth"
           }
          ],
          "contour": [
           {
            "colorbar": {
             "outlinewidth": 0,
             "ticks": ""
            },
            "colorscale": [
             [
              0,
              "#0d0887"
             ],
             [
              0.1111111111111111,
              "#46039f"
             ],
             [
              0.2222222222222222,
              "#7201a8"
             ],
             [
              0.3333333333333333,
              "#9c179e"
             ],
             [
              0.4444444444444444,
              "#bd3786"
             ],
             [
              0.5555555555555556,
              "#d8576b"
             ],
             [
              0.6666666666666666,
              "#ed7953"
             ],
             [
              0.7777777777777778,
              "#fb9f3a"
             ],
             [
              0.8888888888888888,
              "#fdca26"
             ],
             [
              1,
              "#f0f921"
             ]
            ],
            "type": "contour"
           }
          ],
          "contourcarpet": [
           {
            "colorbar": {
             "outlinewidth": 0,
             "ticks": ""
            },
            "type": "contourcarpet"
           }
          ],
          "heatmap": [
           {
            "colorbar": {
             "outlinewidth": 0,
             "ticks": ""
            },
            "colorscale": [
             [
              0,
              "#0d0887"
             ],
             [
              0.1111111111111111,
              "#46039f"
             ],
             [
              0.2222222222222222,
              "#7201a8"
             ],
             [
              0.3333333333333333,
              "#9c179e"
             ],
             [
              0.4444444444444444,
              "#bd3786"
             ],
             [
              0.5555555555555556,
              "#d8576b"
             ],
             [
              0.6666666666666666,
              "#ed7953"
             ],
             [
              0.7777777777777778,
              "#fb9f3a"
             ],
             [
              0.8888888888888888,
              "#fdca26"
             ],
             [
              1,
              "#f0f921"
             ]
            ],
            "type": "heatmap"
           }
          ],
          "heatmapgl": [
           {
            "colorbar": {
             "outlinewidth": 0,
             "ticks": ""
            },
            "colorscale": [
             [
              0,
              "#0d0887"
             ],
             [
              0.1111111111111111,
              "#46039f"
             ],
             [
              0.2222222222222222,
              "#7201a8"
             ],
             [
              0.3333333333333333,
              "#9c179e"
             ],
             [
              0.4444444444444444,
              "#bd3786"
             ],
             [
              0.5555555555555556,
              "#d8576b"
             ],
             [
              0.6666666666666666,
              "#ed7953"
             ],
             [
              0.7777777777777778,
              "#fb9f3a"
             ],
             [
              0.8888888888888888,
              "#fdca26"
             ],
             [
              1,
              "#f0f921"
             ]
            ],
            "type": "heatmapgl"
           }
          ],
          "histogram": [
           {
            "marker": {
             "pattern": {
              "fillmode": "overlay",
              "size": 10,
              "solidity": 0.2
             }
            },
            "type": "histogram"
           }
          ],
          "histogram2d": [
           {
            "colorbar": {
             "outlinewidth": 0,
             "ticks": ""
            },
            "colorscale": [
             [
              0,
              "#0d0887"
             ],
             [
              0.1111111111111111,
              "#46039f"
             ],
             [
              0.2222222222222222,
              "#7201a8"
             ],
             [
              0.3333333333333333,
              "#9c179e"
             ],
             [
              0.4444444444444444,
              "#bd3786"
             ],
             [
              0.5555555555555556,
              "#d8576b"
             ],
             [
              0.6666666666666666,
              "#ed7953"
             ],
             [
              0.7777777777777778,
              "#fb9f3a"
             ],
             [
              0.8888888888888888,
              "#fdca26"
             ],
             [
              1,
              "#f0f921"
             ]
            ],
            "type": "histogram2d"
           }
          ],
          "histogram2dcontour": [
           {
            "colorbar": {
             "outlinewidth": 0,
             "ticks": ""
            },
            "colorscale": [
             [
              0,
              "#0d0887"
             ],
             [
              0.1111111111111111,
              "#46039f"
             ],
             [
              0.2222222222222222,
              "#7201a8"
             ],
             [
              0.3333333333333333,
              "#9c179e"
             ],
             [
              0.4444444444444444,
              "#bd3786"
             ],
             [
              0.5555555555555556,
              "#d8576b"
             ],
             [
              0.6666666666666666,
              "#ed7953"
             ],
             [
              0.7777777777777778,
              "#fb9f3a"
             ],
             [
              0.8888888888888888,
              "#fdca26"
             ],
             [
              1,
              "#f0f921"
             ]
            ],
            "type": "histogram2dcontour"
           }
          ],
          "mesh3d": [
           {
            "colorbar": {
             "outlinewidth": 0,
             "ticks": ""
            },
            "type": "mesh3d"
           }
          ],
          "parcoords": [
           {
            "line": {
             "colorbar": {
              "outlinewidth": 0,
              "ticks": ""
             }
            },
            "type": "parcoords"
           }
          ],
          "pie": [
           {
            "automargin": true,
            "type": "pie"
           }
          ],
          "scatter": [
           {
            "fillpattern": {
             "fillmode": "overlay",
             "size": 10,
             "solidity": 0.2
            },
            "type": "scatter"
           }
          ],
          "scatter3d": [
           {
            "line": {
             "colorbar": {
              "outlinewidth": 0,
              "ticks": ""
             }
            },
            "marker": {
             "colorbar": {
              "outlinewidth": 0,
              "ticks": ""
             }
            },
            "type": "scatter3d"
           }
          ],
          "scattercarpet": [
           {
            "marker": {
             "colorbar": {
              "outlinewidth": 0,
              "ticks": ""
             }
            },
            "type": "scattercarpet"
           }
          ],
          "scattergeo": [
           {
            "marker": {
             "colorbar": {
              "outlinewidth": 0,
              "ticks": ""
             }
            },
            "type": "scattergeo"
           }
          ],
          "scattergl": [
           {
            "marker": {
             "colorbar": {
              "outlinewidth": 0,
              "ticks": ""
             }
            },
            "type": "scattergl"
           }
          ],
          "scattermapbox": [
           {
            "marker": {
             "colorbar": {
              "outlinewidth": 0,
              "ticks": ""
             }
            },
            "type": "scattermapbox"
           }
          ],
          "scatterpolar": [
           {
            "marker": {
             "colorbar": {
              "outlinewidth": 0,
              "ticks": ""
             }
            },
            "type": "scatterpolar"
           }
          ],
          "scatterpolargl": [
           {
            "marker": {
             "colorbar": {
              "outlinewidth": 0,
              "ticks": ""
             }
            },
            "type": "scatterpolargl"
           }
          ],
          "scatterternary": [
           {
            "marker": {
             "colorbar": {
              "outlinewidth": 0,
              "ticks": ""
             }
            },
            "type": "scatterternary"
           }
          ],
          "surface": [
           {
            "colorbar": {
             "outlinewidth": 0,
             "ticks": ""
            },
            "colorscale": [
             [
              0,
              "#0d0887"
             ],
             [
              0.1111111111111111,
              "#46039f"
             ],
             [
              0.2222222222222222,
              "#7201a8"
             ],
             [
              0.3333333333333333,
              "#9c179e"
             ],
             [
              0.4444444444444444,
              "#bd3786"
             ],
             [
              0.5555555555555556,
              "#d8576b"
             ],
             [
              0.6666666666666666,
              "#ed7953"
             ],
             [
              0.7777777777777778,
              "#fb9f3a"
             ],
             [
              0.8888888888888888,
              "#fdca26"
             ],
             [
              1,
              "#f0f921"
             ]
            ],
            "type": "surface"
           }
          ],
          "table": [
           {
            "cells": {
             "fill": {
              "color": "#EBF0F8"
             },
             "line": {
              "color": "white"
             }
            },
            "header": {
             "fill": {
              "color": "#C8D4E3"
             },
             "line": {
              "color": "white"
             }
            },
            "type": "table"
           }
          ]
         },
         "layout": {
          "annotationdefaults": {
           "arrowcolor": "#2a3f5f",
           "arrowhead": 0,
           "arrowwidth": 1
          },
          "autotypenumbers": "strict",
          "coloraxis": {
           "colorbar": {
            "outlinewidth": 0,
            "ticks": ""
           }
          },
          "colorscale": {
           "diverging": [
            [
             0,
             "#8e0152"
            ],
            [
             0.1,
             "#c51b7d"
            ],
            [
             0.2,
             "#de77ae"
            ],
            [
             0.3,
             "#f1b6da"
            ],
            [
             0.4,
             "#fde0ef"
            ],
            [
             0.5,
             "#f7f7f7"
            ],
            [
             0.6,
             "#e6f5d0"
            ],
            [
             0.7,
             "#b8e186"
            ],
            [
             0.8,
             "#7fbc41"
            ],
            [
             0.9,
             "#4d9221"
            ],
            [
             1,
             "#276419"
            ]
           ],
           "sequential": [
            [
             0,
             "#0d0887"
            ],
            [
             0.1111111111111111,
             "#46039f"
            ],
            [
             0.2222222222222222,
             "#7201a8"
            ],
            [
             0.3333333333333333,
             "#9c179e"
            ],
            [
             0.4444444444444444,
             "#bd3786"
            ],
            [
             0.5555555555555556,
             "#d8576b"
            ],
            [
             0.6666666666666666,
             "#ed7953"
            ],
            [
             0.7777777777777778,
             "#fb9f3a"
            ],
            [
             0.8888888888888888,
             "#fdca26"
            ],
            [
             1,
             "#f0f921"
            ]
           ],
           "sequentialminus": [
            [
             0,
             "#0d0887"
            ],
            [
             0.1111111111111111,
             "#46039f"
            ],
            [
             0.2222222222222222,
             "#7201a8"
            ],
            [
             0.3333333333333333,
             "#9c179e"
            ],
            [
             0.4444444444444444,
             "#bd3786"
            ],
            [
             0.5555555555555556,
             "#d8576b"
            ],
            [
             0.6666666666666666,
             "#ed7953"
            ],
            [
             0.7777777777777778,
             "#fb9f3a"
            ],
            [
             0.8888888888888888,
             "#fdca26"
            ],
            [
             1,
             "#f0f921"
            ]
           ]
          },
          "colorway": [
           "#636efa",
           "#EF553B",
           "#00cc96",
           "#ab63fa",
           "#FFA15A",
           "#19d3f3",
           "#FF6692",
           "#B6E880",
           "#FF97FF",
           "#FECB52"
          ],
          "font": {
           "color": "#2a3f5f"
          },
          "geo": {
           "bgcolor": "white",
           "lakecolor": "white",
           "landcolor": "#E5ECF6",
           "showlakes": true,
           "showland": true,
           "subunitcolor": "white"
          },
          "hoverlabel": {
           "align": "left"
          },
          "hovermode": "closest",
          "mapbox": {
           "style": "light"
          },
          "paper_bgcolor": "white",
          "plot_bgcolor": "#E5ECF6",
          "polar": {
           "angularaxis": {
            "gridcolor": "white",
            "linecolor": "white",
            "ticks": ""
           },
           "bgcolor": "#E5ECF6",
           "radialaxis": {
            "gridcolor": "white",
            "linecolor": "white",
            "ticks": ""
           }
          },
          "scene": {
           "xaxis": {
            "backgroundcolor": "#E5ECF6",
            "gridcolor": "white",
            "gridwidth": 2,
            "linecolor": "white",
            "showbackground": true,
            "ticks": "",
            "zerolinecolor": "white"
           },
           "yaxis": {
            "backgroundcolor": "#E5ECF6",
            "gridcolor": "white",
            "gridwidth": 2,
            "linecolor": "white",
            "showbackground": true,
            "ticks": "",
            "zerolinecolor": "white"
           },
           "zaxis": {
            "backgroundcolor": "#E5ECF6",
            "gridcolor": "white",
            "gridwidth": 2,
            "linecolor": "white",
            "showbackground": true,
            "ticks": "",
            "zerolinecolor": "white"
           }
          },
          "shapedefaults": {
           "line": {
            "color": "#2a3f5f"
           }
          },
          "ternary": {
           "aaxis": {
            "gridcolor": "white",
            "linecolor": "white",
            "ticks": ""
           },
           "baxis": {
            "gridcolor": "white",
            "linecolor": "white",
            "ticks": ""
           },
           "bgcolor": "#E5ECF6",
           "caxis": {
            "gridcolor": "white",
            "linecolor": "white",
            "ticks": ""
           }
          },
          "title": {
           "x": 0.05
          },
          "xaxis": {
           "automargin": true,
           "gridcolor": "white",
           "linecolor": "white",
           "ticks": "",
           "title": {
            "standoff": 15
           },
           "zerolinecolor": "white",
           "zerolinewidth": 2
          },
          "yaxis": {
           "automargin": true,
           "gridcolor": "white",
           "linecolor": "white",
           "ticks": "",
           "title": {
            "standoff": 15
           },
           "zerolinecolor": "white",
           "zerolinewidth": 2
          }
         }
        },
        "title": {
         "text": "PCA Visualization of GPT Summaries (2D)"
        },
        "width": 1000,
        "xaxis": {
         "anchor": "y",
         "domain": [
          0,
          1
         ],
         "title": {
          "text": "Principal Component 1"
         }
        },
        "yaxis": {
         "anchor": "x",
         "domain": [
          0,
          1
         ],
         "title": {
          "text": "Principal Component 2"
         }
        }
       }
      }
     },
     "metadata": {},
     "output_type": "display_data"
    }
   ],
   "source": [
    "def plot_pca_2d(data, filename_to_category, title=\"PCA 2D Plot\"):\n",
    "    \"\"\"\n",
    "    Conducts PCA on a list of tensor vectors and plots the result in a 2D interactive chart.\n",
    "    \n",
    "    Args:\n",
    "        data (dict): A dictionary with 'filename: tensor' pairs.\n",
    "        filename_to_category (dict): A dictionary mapping filenames to categories (labels).\n",
    "        title (str): The title of the plot.\n",
    "    \"\"\"\n",
    "    # Aggregate tensors and metadata\n",
    "    filenames = []\n",
    "    categories = []\n",
    "    tensors = []\n",
    "    \n",
    "    for filename, tensor in data.items():\n",
    "        filenames.append(filename)\n",
    "        categories.append(filename_to_category[filename])\n",
    "        tensors.append(tensor.numpy())  # Convert to NumPy array for PCA\n",
    "\n",
    "    # Stack tensors into a matrix for PCA\n",
    "    tensor_matrix = np.stack(tensors)  # Shape: [num_files, 384]\n",
    "\n",
    "    # Perform PCA to reduce dimensions to 2\n",
    "    pca = PCA(n_components=2)\n",
    "    pca_result = pca.fit_transform(tensor_matrix)  # Shape: [num_files, 2]\n",
    "\n",
    "    # Create a DataFrame for plotting\n",
    "    import pandas as pd\n",
    "    plot_data = pd.DataFrame({\n",
    "        'PC1': pca_result[:, 0],\n",
    "        'PC2': pca_result[:, 1],\n",
    "        'Filename': filenames,\n",
    "        'Category': categories\n",
    "    })\n",
    "\n",
    "    # Plot using Plotly for interactivity\n",
    "    fig = px.scatter(\n",
    "        plot_data,\n",
    "        x='PC1',\n",
    "        y='PC2',\n",
    "        color='Category',  # Color by category\n",
    "        hover_name='Filename',  # Show filename on hover\n",
    "        title=title\n",
    "    )\n",
    "    \n",
    "    fig.update_traces(marker=dict(size=7))  # Adjust marker size\n",
    "    fig.update_layout(\n",
    "        xaxis_title='Principal Component 1',\n",
    "        yaxis_title='Principal Component 2',\n",
    "        width=1000,  # Set plot width\n",
    "        height=800   # Set plot height\n",
    "    )\n",
    "\n",
    "    fig.show()\n",
    "\n",
    "plot_pca_2d(data, filename_to_category, title=\"PCA Visualization of GPT Summaries (2D)\")"
   ]
  },
  {
   "cell_type": "code",
   "execution_count": null,
   "metadata": {},
   "outputs": [],
   "source": []
  }
 ],
 "metadata": {
  "kernelspec": {
   "display_name": "philosophy_oracle",
   "language": "python",
   "name": "python3"
  },
  "language_info": {
   "codemirror_mode": {
    "name": "ipython",
    "version": 3
   },
   "file_extension": ".py",
   "mimetype": "text/x-python",
   "name": "python",
   "nbconvert_exporter": "python",
   "pygments_lexer": "ipython3",
   "version": "3.11.7"
  }
 },
 "nbformat": 4,
 "nbformat_minor": 2
}
