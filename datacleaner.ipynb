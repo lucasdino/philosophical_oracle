{
 "cells": [
  {
   "cell_type": "markdown",
   "metadata": {},
   "source": [
    "# Data Cleaning Functions"
   ]
  },
  {
   "cell_type": "code",
   "execution_count": 3,
   "metadata": {},
   "outputs": [],
   "source": [
    "import os\n",
    "import re"
   ]
  },
  {
   "cell_type": "code",
   "execution_count": 4,
   "metadata": {},
   "outputs": [],
   "source": [
    "def load_file_as_string(filename):\n",
    "    \"\"\"Loads a text file as a single string.\"\"\"\n",
    "    file_path = os.path.join('texts', 'keeps', filename)\n",
    "    with open(file_path, 'r', encoding='utf-8') as file:\n",
    "        return file.read()\n",
    "\n",
    "def save_cleaned_file(text, original_filename):\n",
    "    \"\"\"Saves the cleaned text to a file in the 'cleaned_data' folder.\"\"\"\n",
    "    cleaned_folder = os.path.join('cleaned_data')\n",
    "    os.makedirs(cleaned_folder, exist_ok=True)\n",
    "    base_filename = os.path.basename(original_filename)\n",
    "    cleaned_file_path = os.path.join(cleaned_folder, base_filename)\n",
    "    with open(cleaned_file_path, 'w', encoding='utf-8') as file:\n",
    "        file.write(text)\n",
    "    return cleaned_file_path\n",
    "\n",
    "def process_file(filename, processing_function):\n",
    "    \"\"\"Processes the file using the provided processing function and saves the result.\"\"\"\n",
    "    text = load_file_as_string(filename)\n",
    "    processed_text = processing_function(text)\n",
    "    cleaned_file_path = save_cleaned_file(processed_text, filename)\n",
    "    print(f\"Processed file saved to: {cleaned_file_path}\")"
   ]
  },
  {
   "cell_type": "code",
   "execution_count": 5,
   "metadata": {},
   "outputs": [],
   "source": [
    "def transform_1(text):\n",
    "    # Remove all occurrences of '[num]'\n",
    "    cleaned_text = re.sub(r'\\[\\d+\\]', '', text)\n",
    "    return cleaned_text"
   ]
  },
  {
   "cell_type": "code",
   "execution_count": 6,
   "metadata": {},
   "outputs": [
    {
     "name": "stdout",
     "output_type": "stream",
     "text": [
      "Processed file saved to: cleaned_data\\emerson_selfreliance.txt\n"
     ]
    }
   ],
   "source": [
    "input_filename = 'emerson_selfreliance.txt'\n",
    "process_file(input_filename, transform_1)"
   ]
  }
 ],
 "metadata": {
  "kernelspec": {
   "display_name": "philosophy_oracle",
   "language": "python",
   "name": "python3"
  },
  "language_info": {
   "codemirror_mode": {
    "name": "ipython",
    "version": 3
   },
   "file_extension": ".py",
   "mimetype": "text/x-python",
   "name": "python",
   "nbconvert_exporter": "python",
   "pygments_lexer": "ipython3",
   "version": "3.11.7"
  }
 },
 "nbformat": 4,
 "nbformat_minor": 2
}
